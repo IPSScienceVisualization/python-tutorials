{
 "cells": [
  {
   "cell_type": "markdown",
   "metadata": {},
   "source": [
    "# Parsing a data2dome feed to create Uniview Modules with fulldome images\n",
    "\n",
    "This notebook shows how to connect to a [data2dome](https://docs.google.com/document/d/1USG1clnxSyGf9lsDe-alb6nZzxn_xFzxbjCnSVPzlWU/edit#) JSON feed.\n",
    "\n",
    "In this example we query the ESO images feed and search for recent images in fulldome format. We then construct an html table with thumbnail images so that we can select which ones we want. Finally a Uniview module is created to hold the fisheye image.\n",
    "\n",
    "Mark SubbaRao, April 25th, 2017"
   ]
  },
  {
   "cell_type": "code",
   "execution_count": 458,
   "metadata": {
    "collapsed": false
   },
   "outputs": [],
   "source": [
    "import pandas as pd\n",
    "from IPython.display import Image, HTML\n",
    "from datetime import date, timedelta\n",
    "import requests\n",
    "from PIL import Image as Im\n",
    "import os\n",
    "\n",
    "# D2D Feed\n",
    "ESOimages = 'http://www.eso.org/public/images/d2d/'\n",
    "howRecent = 200 # in days\n",
    "pd.set_option('max_colwidth',5000) # so we will return the full description without truncation\n",
    "numReturn=20 # maximum number of results to return\n",
    "desiredResolution = 4096"
   ]
  },
  {
   "cell_type": "markdown",
   "metadata": {},
   "source": [
    "## Parse the Feed\n",
    "\n",
    "This code block downloads the pagenated json feed and parses it selecting only the images in fulldome format until numReturn objects are found."
   ]
  },
  {
   "cell_type": "code",
   "execution_count": 272,
   "metadata": {
    "collapsed": false
   },
   "outputs": [
    {
     "name": "stdout",
     "output_type": "stream",
     "text": [
      "http://www.eso.org/public/images/d2d/?after=201610060000\n",
      "1 pages parsed 1 fisheye images found\n",
      "http://www.eso.org/public/images/d2d/?after=201610060000&page=2\n",
      "2 pages parsed 6 fisheye images found\n",
      "http://www.eso.org/public/images/d2d/?after=201610060000&page=3\n",
      "3 pages parsed 11 fisheye images found\n",
      "http://www.eso.org/public/images/d2d/?after=201610060000&page=4\n",
      "4 pages parsed 13 fisheye images found\n"
     ]
    }
   ],
   "source": [
    "page = ESOimages+'?after='+(date.today()-timedelta(days=howRecent)).strftime('%Y%m%d')+'0000' #the 0000 is the time component of the date\n",
    "nImg = 0\n",
    "nPage=0\n",
    "feedImages=[]\n",
    "while (page!='' and nImg < numReturn):\n",
    "    print(page)\n",
    "    df=pd.read_json(page)\n",
    "    # The Next parameter may or may not exist\n",
    "    try:\n",
    "        page=df.Next[0]\n",
    "    except:\n",
    "        page=''\n",
    "    nPage=nPage+1\n",
    "    for feedImage in df.Collections:\n",
    "        if (feedImage['Assets'][0]['Resources'][0]['ProjectionType']=='Fulldome'and nImg < numReturn):\n",
    "            feedImages.append(feedImage)\n",
    "            nImg=nImg+1\n",
    "    print(str(nPage) + ' pages parsed ' + str(nImg) + ' fulldome images found')"
   ]
  },
  {
   "cell_type": "markdown",
   "metadata": {},
   "source": [
    "## Create table with thumbnail images for image selection"
   ]
  },
  {
   "cell_type": "code",
   "execution_count": 285,
   "metadata": {
    "collapsed": false
   },
   "outputs": [],
   "source": [
    "titleList=[]\n",
    "descriptionList=[]\n",
    "thumbnailList=[]\n",
    "pubdateList=[]\n",
    "for pic in feedImages:\n",
    "    titleList.append(pic['Title'])\n",
    "    descriptionList.append(pic['Description'].replace(\"\\r\\n\",''))\n",
    "    pubdateList.append(pic['PublicationDate'])\n",
    "    for resource in pic['Assets'][0]['Resources']:\n",
    "        if (resource['ResourceType']=='Thumbnail'):\n",
    "            thumbnailList.append('<img src=\"'+resource['URL']+'\"/>')            \n",
    "\n",
    "df3 = pd.DataFrame({'title':titleList,'description':descriptionList,'thumbnail':thumbnailList,'pubdate':pubdateList},columns=['title','thumbnail','description','pubdate'])"
   ]
  },
  {
   "cell_type": "code",
   "execution_count": 286,
   "metadata": {
    "collapsed": false
   },
   "outputs": [
    {
     "data": {
      "text/html": [
       "<table border=\"1\" class=\"dataframe\">\n",
       "  <thead>\n",
       "    <tr style=\"text-align: right;\">\n",
       "      <th></th>\n",
       "      <th>title</th>\n",
       "      <th>thumbnail</th>\n",
       "      <th>description</th>\n",
       "      <th>pubdate</th>\n",
       "    </tr>\n",
       "  </thead>\n",
       "  <tbody>\n",
       "    <tr>\n",
       "      <th>0</th>\n",
       "      <td>Fulldome selfie</td>\n",
       "      <td><img src=\"https://www.eso.org/public/archives/images/potwmedium/2016-04-09-alma-fd-selfie-horalek-fd-cc.jpg\"/></td>\n",
       "      <td><p>Beneath the grand arc of the Milky Way, <a href=\"http://www.eso.org/public/outreach/partnerships/photo-ambassadors/\">ESO Photo Ambassador</a> Petr Horálek is just a small speck in an enormous Universe. Horálek is standing amongst the antennas of the <a href=\"http://www.eso.org/public/outreach/partnerships/photo-ambassadors/\">Atacama Large Millimeter/submillimeter Array</a> (ALMA), which studies some of the coldest objects in the Universe.</p></td>\n",
       "      <td>2017-02-24T13:58:20Z</td>\n",
       "    </tr>\n",
       "    <tr>\n",
       "      <th>1</th>\n",
       "      <td>Paranal bow — fisheye</td>\n",
       "      <td><img src=\"https://www.eso.org/public/archives/images/potwmedium/2016-04-06-fd-paranal-among-vlts1-fd-cc.jpg\"/></td>\n",
       "      <td><p>The four huge Unit Telescopes (UTs) at ESO's <a href=\"http://eso.org/vlt\">Paranal Observatory</a> in Chile are among the most advanced in the world. The perfect backdrop is provided by a view on the galaxy in which we live — the <a href=\"https://en.wikipedia.org/wiki/Milky_Way\">Milky Way</a>.</p><h3>Links</h3><ul><li><span style=\"text-decoration: underline;\"><a href=\"https://www.eso.org/public/images/2016-04-06-fd-paranal-among-vlts1-eq-cc-extended/\">Extended to 360 x 180 degrees (with black) version of this      image</a></span></li><li><span style=\"text-decoration: underline;\"><a href=\"https://www.eso.org/public/images/2016-04-06-fd-paranal-among-vlts1-eq-cc/\">Equirectangular projected version of this image</a></span></li></ul></td>\n",
       "      <td>2017-01-18T14:10:33Z</td>\n",
       "    </tr>\n",
       "    <tr>\n",
       "      <th>2</th>\n",
       "      <td>Milky Way between UTs — fisheye</td>\n",
       "      <td><img src=\"https://www.eso.org/public/archives/images/potwmedium/2016-04-06-mw-among-vlts-fulldome-fd-cc.jpg\"/></td>\n",
       "      <td><p>The Milky Way tucks in nicely between the two <a href=\"http://eso.org/vlt\">Unit Telescope</a> (UT) behemoths that make up part of ESO's <a href=\"http://eso.org/vlt\">Very Large Telescope</a> in Chile. As can be seen from the brilliant Milky Way, the skies here are crystal-clear, a result of the lack of light pollution and high altitude.</p><h3>Links</h3><ul><li><span style=\"text-decoration: underline;\"><a href=\"https://www.eso.org/public/images/2016-04-06-mw-among-vlts-fulldome-eq-cc-extended/\">Extended to 360 x 180 degrees (with black) version of this      image</a></span></li></ul></td>\n",
       "      <td>2017-01-18T10:50:51Z</td>\n",
       "    </tr>\n",
       "    <tr>\n",
       "      <th>3</th>\n",
       "      <td>Dawn at La Silla — fisheye</td>\n",
       "      <td><img src=\"https://www.eso.org/public/archives/images/potwmedium/2016-04-13-la-silla-mw-dawn-eq-fd-cc.jpg\"/></td>\n",
       "      <td><p>The rising Sun brings an end to observations at ESO's <a href=\"http://eso.org/lasilla\">La Silla Observatory</a> in the Atacama desert of Chile. La Silla was ESO's first observatory in Chile, the telescopes there taking their first light from the Universe in the late 1960s.</p><h3>Links</h3><ul><li><span style=\"text-decoration: underline;\"><a href=\"https://www.eso.org/public/images/2016-04-13-la-silla-mw-dawn-eq-eq-cc-extended/\">Extended to 360 x 180 degrees (with black) version of this      image</a></span></li></ul></td>\n",
       "      <td>2017-01-18T10:45:26Z</td>\n",
       "    </tr>\n",
       "    <tr>\n",
       "      <th>4</th>\n",
       "      <td>Razor-sharp Paranal</td>\n",
       "      <td><img src=\"https://www.eso.org/public/archives/images/potwmedium/preset-99.jpg\"/></td>\n",
       "      <td><p>New <a href=\"http://www.eso.org/public/outreach/webcams/\">webcams</a> installed at ESO's facilities in Chile provide unparalleled levels of detail of the world's most productive astronomical observatories. Here, the <a href=\"http://eso.org/vlt\">Very Large Telescope</a> is imaged in 4K definition, beneath the cloudless Atacama sky.</p><p>Such images could be used in the <a href=\"http://supernova.eso.org\">ESO Supernova Planetarium &amp; Visitor Centre</a> in Garching, Germany.</p></td>\n",
       "      <td>2016-11-30T14:24:39.419215Z</td>\n",
       "    </tr>\n",
       "    <tr>\n",
       "      <th>5</th>\n",
       "      <td>That much closer</td>\n",
       "      <td><img src=\"https://www.eso.org/public/archives/images/potwmedium/beletsky-paranal-30-cc.jpg\"/></td>\n",
       "      <td><p>With light pollution and cloud cover rarely issues at <a href=\"http://eso.org/vlt\">ESO's Paranal Observatory</a>, the Universe can seem closer than ever. Here, one of ESO's <a href=\"http://www.eso.org/public/unitedkingdom/outreach/partnerships/photo-ambassadors/\">Photo Ambassadors</a>, <a href=\"https://www.facebook.com/PetrHoralekPhotography/?ref=page_internal\">Petr Horálek</a>, gets a better view on the <a href=\"http://eso.org/vlt\">Very Large Telescope</a>, nearer the heavens.</p><p>Images like this were gathered on the <a href=\"https://www.eso.org/public/unitedkingdom/videos/esocast88a/\">Fulldome Expedition</a>, an endeavour to produce visuals for the <a href=\"http://supernova.eso.org\">ESO Supernova Planetarium &amp; Visitor Centre</a> in Garching, Munich.</p></td>\n",
       "      <td>2016-11-28T12:20:48.677643Z</td>\n",
       "    </tr>\n",
       "    <tr>\n",
       "      <th>6</th>\n",
       "      <td>ALMA gegenschein — fisheye</td>\n",
       "      <td><img src=\"https://www.eso.org/public/archives/images/potwmedium/2016-04-08-alma-gegenshein-fd-cc.jpg\"/></td>\n",
       "      <td><p>On the Chajnantor plateau in Chile, home of the <a href=\"/public/teles-instr/alma/\" target=\"_blank\">Atacama Large Millimetre/submillimetre Array</a> (ALMA), the sky is so dark that the famous and extremely difficult to observe <a href=\"https://en.wikipedia.org/wiki/Gegenschein\" target=\"_blank\">gegenschein</a> (or \"countershine\") is sometimes visible.</p><p>This is a faint brightening of the night sky in the region of the ecliptic directly opposite the Sun, caused by reflection of sunlight by <a href=\"https://en.wikipedia.org/wiki/Interplanetary_medium\" target=\"_blank\">interplanetary dust</a> in the Solar System.</p><h3>Links</h3><ul><li><span><span style=\"text-decoration: underline;\"><a href=\"https://www.eso.org/public/unitedkingdom/images/2016-04-08-alma-gegenshein-eq-cc-extended/\">Extended to 360 x 180 degrees (with black) version of this image</a></span><a href=\"https://www.eso.org/public/unitedkingdom/images/2016-04-08-alma-gegenshein-fd-cc/\"></a></span></li></ul></td>\n",
       "      <td>2016-11-24T13:48:26Z</td>\n",
       "    </tr>\n",
       "    <tr>\n",
       "      <th>7</th>\n",
       "      <td>Nightfall Residencia — fisheye</td>\n",
       "      <td><img src=\"https://www.eso.org/public/archives/images/potwmedium/2016-04-06-night-residencia-outside-fd-cc.jpg\"/></td>\n",
       "      <td><p>An oasis in an otherwise barren desert, the <a href=\"https://www.eso.org/public/unitedkingdom/videos/residencia-fd-clip3/\">Paranal Residencia</a> provides accommodation for the scientists, engineers and technicians who work at ESO's <a href=\"http://eso.org/vlt\">Very Large Telescope</a> in Chile. It's not everywhere in the world where you can get a view like this from your bedroom window.</p><h3><span>Links</span></h3><ul><li><span style=\"text-decoration: underline;\"><a href=\"https://www.eso.org/public/unitedkingdom/images/2016-04-06-night-residencia-outside-eq-cc-extended/\">Extended to 360 x 180 degrees (with black) version of this      image</a></span></li></ul></td>\n",
       "      <td>2016-11-23T13:22:29.707760Z</td>\n",
       "    </tr>\n",
       "    <tr>\n",
       "      <th>8</th>\n",
       "      <td>Four units</td>\n",
       "      <td><img src=\"https://www.eso.org/public/archives/images/potwmedium/beletsky-paranal-28-cc.jpg\"/></td>\n",
       "      <td><p>The four large <a href=\"http://eso.org/vlt\">Unit Telescopes</a> (UTs) make up the bulk of ESO's <a href=\"http://eso.org/vlt\">Very Large Telescope</a>, located at Paranal Observatory in the Chilean desert. This fisheye photograph shows the UTs in action.</p><p>Such an image could be shown in planetariums worldwide, such as in the <a href=\"http://supernova.eso.org\">ESO Supernova Planetarium &amp; Visitor Centre</a> in Munich, Germany.</p></td>\n",
       "      <td>2016-11-16T14:08:27.352267Z</td>\n",
       "    </tr>\n",
       "    <tr>\n",
       "      <th>9</th>\n",
       "      <td>Milky Way slice</td>\n",
       "      <td><img src=\"https://www.eso.org/public/archives/images/potwmedium/beletsky-paranal-25-cc.jpg\"/></td>\n",
       "      <td><p>The wide arch of the <a href=\"https://en.wikipedia.org/wiki/Milky_Way\">Milky Way</a> cuts through the centre of this fisheye photograph of ESO's <a href=\"http://eso.org/vlt\">Paranal Observatory</a>, which is home to the Very Large Telescope. One of the facility's <a href=\"https://www.eso.org/public/unitedkingdom/teles-instr/vlt/auxiliarytelescopes/\">Auxiliary Telescopes</a> is wide-eyed and taking in light from the Universe's phenomena.</p><p>Such an image could be shown in planetariums worldwide, such as in the <a href=\"http://supernova.eso.org\">ESO Supernova Planetarium &amp; Visitor Centre</a> in Munich, Germany.</p></td>\n",
       "      <td>2016-11-16T14:07:52.641158Z</td>\n",
       "    </tr>\n",
       "    <tr>\n",
       "      <th>10</th>\n",
       "      <td>Looking out</td>\n",
       "      <td><img src=\"https://www.eso.org/public/archives/images/potwmedium/beletsky-paranal-27-cc.jpg\"/></td>\n",
       "      <td><p>Four behemoths make up the <a href=\"http://eso.org/vlt\">Unit Telescopes</a> (UTs) of ESO's <a href=\"http://eso.org/vlt\">Very Large Telescope</a>, located at Paranal Observatory in the Chilean desert. This fisheye photograph shows the UTs open and busy observing.</p><p>Such an image could be shown in planetariums worldwide, such as in the <a href=\"http://supernova.eso.org\">ESO Supernova Planetarium &amp; Visitor Centre</a> in Munich, Germany.</p></td>\n",
       "      <td>2016-11-16T13:49:43.292116Z</td>\n",
       "    </tr>\n",
       "    <tr>\n",
       "      <th>11</th>\n",
       "      <td>La Silla under the arch</td>\n",
       "      <td><img src=\"https://www.eso.org/public/archives/images/potwmedium/nik9850p2-cc.jpg\"/></td>\n",
       "      <td><p>This fisheye projection shows the <a href=\"http://www.eso.org/public/teles-instr/lasilla/36/\">ESO 3.6-metre telescope</a> at <a href=\"http://www.eso.org/public/teles-instr/lasilla/\">La Silla Observatory</a> in Chile, beneath the glowing arch of the <a href=\"https://en.wikipedia.org/wiki/Milky_Way\">Milky Way</a>.</p><h3>Links</h3><ul><li><a href=\"https://www.eso.org/public/images/nik9850p1-cc/\">Equirectangular projection version of this image</a></li><li><a href=\"https://www.eso.org/public/images/nik9850p1-cc-extended/\">Extended to 360 x 180 degrees (with black) version of this image</a></li></ul></td>\n",
       "      <td>2016-10-21T11:53:55Z</td>\n",
       "    </tr>\n",
       "    <tr>\n",
       "      <th>12</th>\n",
       "      <td>Antennas towards the Milky Way</td>\n",
       "      <td><img src=\"https://www.eso.org/public/archives/images/potwmedium/2016-04-10-alma-fd-mw-center-cc.jpg\"/></td>\n",
       "      <td><p>A mind-boggling fisheye projection of some of the 66 antennas which make up ESO's <a href=\"eso.org/alma\">Atacama Large Millimetre Array</a> (ALMA) in Chile. Each individual telescope can be moved to very precise locations in order to observe the Universe in the best possible clarity.</p></td>\n",
       "      <td>2016-10-11T09:53:23.318994Z</td>\n",
       "    </tr>\n",
       "  </tbody>\n",
       "</table>"
      ],
      "text/plain": [
       "<IPython.core.display.HTML object>"
      ]
     },
     "execution_count": 286,
     "metadata": {},
     "output_type": "execute_result"
    }
   ],
   "source": [
    "HTML(df3.to_html(escape=False))"
   ]
  },
  {
   "cell_type": "markdown",
   "metadata": {},
   "source": [
    "## Selecting an image and creating a Uniview module\n",
    "\n",
    "The next code block contains a method to build a Uniview module given a name and the number of the image, it:\n",
    "\n",
    "1. Creates a Directory in Uniview Custom Modules\n",
    "1. Downloads the image, resizes it if necessary and saves it in module directory\n",
    "1. Creates a .mod file for this module\n",
    "1. Creates a module.definition file, which holds the title, credit, rights and publication date from the D2D feed"
   ]
  },
  {
   "cell_type": "code",
   "execution_count": 456,
   "metadata": {
    "collapsed": false
   },
   "outputs": [],
   "source": [
    "UniviewModulePath = r'C:\\Users\\msubbarao\\SCISS\\Uniview Theater 2.0\\Custom Modules'\n",
    "def makeUVmodule(num,moduleName):\n",
    "    imURL=''\n",
    "    imSize=0\n",
    "    imDict = feedImages[num]\n",
    "    \n",
    "    # FIRST Create a Directory in Uniview Custom Modules\n",
    "    UniviewModuleDir=os.path.join(UniviewModulePath,moduleName)\n",
    "    if not os.path.exists(UniviewModuleDir):\n",
    "        os.makedirs(UniviewModuleDir)\n",
    "    os.path.exists(UniviewModuleDir)    \n",
    "    \n",
    "    # SECOND Download image, resize if necessary and save in module directory\n",
    "    for resource in imDict['Assets'][0]['Resources']:\n",
    "        if ((resource['Dimensions'][0]>=imSize and imSize < desiredResolution) or (resource['Dimensions'][0]<=imSize and imSize > desiredResolution and resource['Dimensions'][0] > desiredResolution)):\n",
    "            imSize = resource['Dimensions'][0]\n",
    "            imURL = resource['URL']\n",
    "    print('downloading '+imURL)    \n",
    "    im = Im.open(requests.get(imURL, stream=True).raw)\n",
    "    if (imSize > desiredResolution):\n",
    "        im = im.resize((desiredResolution,desiredResolution))\n",
    "        print('resizing image from '+str(imSize)+' to '+str(desiredResolution))\n",
    "    imageName=moduleName+'.jpg'\n",
    "    im.save(os.path.join(UniviewModuleDir,imageName))\n",
    "    \n",
    "    # THIRD create a .mod file for this module\n",
    "    modFileText='''\n",
    "    filepath +:.:./modules/'''+moduleName+'''\n",
    "    \n",
    "    2dobject ''' + moduleName + ''' sgFisheyeScreenRenderObject\n",
    "    {\n",
    "    prop.Enabled false\n",
    "    prop.Depth 200\n",
    "    prop.fileName ./modules/'''+moduleName+'/'+imageName+'''\n",
    "    prop.alpha 1.0\n",
    "    prop.tilt -45\n",
    "    }'''\n",
    "    print('writing .mod file')\n",
    "    modFileName=moduleName+'.mod'\n",
    "    writeFile = open(os.path.join(UniviewModuleDir,modFileName),'w')\n",
    "    writeFile.write(modFileText)\n",
    "    writeFile.close()\n",
    "    \n",
    "    # FORTH create a module.definition file\n",
    "    definitionText='''\n",
    "    <uniview>\n",
    "    <name>'''+moduleName+'''</name>\n",
    "    <description>'''+imDict[\"Title\"]+'''</description>\n",
    "    <creator>'''+imDict[\"Credit\"]+'''</creator>\n",
    "    <legalinfo>'''+imDict[\"Rights\"]+'''</legalinfo>\n",
    "    <version></version>\n",
    "    <creationdate>'''+imDict[\"PublicationDate\"]+'''</creationdate>\n",
    "    </uniview>\n",
    "    '''\n",
    "    print('writing module.definition file')\n",
    "    writeFile = open(os.path.join(UniviewModuleDir,'module.definition'),'w')\n",
    "    writeFile.write(definitionText)\n",
    "    writeFile.close()\n",
    "    print('Done :)')"
   ]
  },
  {
   "cell_type": "markdown",
   "metadata": {},
   "source": [
    "Here is an example of how to call the makeUVmodule method"
   ]
  },
  {
   "cell_type": "code",
   "execution_count": 457,
   "metadata": {
    "collapsed": false
   },
   "outputs": [
    {
     "name": "stdout",
     "output_type": "stream",
     "text": [
      "downloading https://cdn.eso.org/images/large/preset-99.jpg\n",
      "resizing image from 4373 to 4096\n",
      "writing .mod file\n",
      "writing module.definition file\n",
      "Done :)\n"
     ]
    }
   ],
   "source": [
    "makeUVmodule(4,'VLT_4')"
   ]
  },
  {
   "cell_type": "code",
   "execution_count": null,
   "metadata": {
    "collapsed": true
   },
   "outputs": [],
   "source": []
  }
 ],
 "metadata": {
  "anaconda-cloud": {},
  "kernelspec": {
   "display_name": "Python [conda root]",
   "language": "python",
   "name": "conda-root-py"
  },
  "language_info": {
   "codemirror_mode": {
    "name": "ipython",
    "version": 3
   },
   "file_extension": ".py",
   "mimetype": "text/x-python",
   "name": "python",
   "nbconvert_exporter": "python",
   "pygments_lexer": "ipython3",
   "version": "3.5.2"
  }
 },
 "nbformat": 4,
 "nbformat_minor": 1
}

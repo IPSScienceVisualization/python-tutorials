{
 "cells": [
  {
   "cell_type": "markdown",
   "metadata": {},
   "source": [
    "# Data to Dome: Visualizing Gamma Ray Bursts in WWT"
   ]
  },
  {
   "cell_type": "markdown",
   "metadata": {},
   "source": [
    "For this month’s tutorial we will create a visualization of Gamma Ray Bursts. The tutorial was created for A KICP short course for museum and planetarium staff about the Evolving Universe (http://kicp-courses.uchicago.edu/2014/index.php) held this September. Here we will only visualize the data in WWT. While similar visualizations are possible in other planetarium software packages, the process of creating them is somewhat awkward. The time domain is the next great frontier for astronomy, I encourage software vendors to follow along with the tutorial and think about how they can streamline the process of creating a similar visualization using their software.<br><br>\n",
    "Mark Subbarao (msubbarao at adlerplanetarium.org)"
   ]
  },
  {
   "cell_type": "markdown",
   "metadata": {},
   "source": [
    "##### Python Setup"
   ]
  },
  {
   "cell_type": "code",
   "execution_count": 1,
   "metadata": {
    "collapsed": false
   },
   "outputs": [],
   "source": [
    "from astropy.table import Table,Column\n",
    "from astropy.time import Time\n",
    "from astropy import units\n",
    "from astropy.coordinates import SkyCoord\n",
    "from astroquery.vizier import Vizier"
   ]
  },
  {
   "cell_type": "code",
   "execution_count": 2,
   "metadata": {
    "collapsed": false
   },
   "outputs": [],
   "source": [
    "#Create Vizier object, turn off default row limit\n",
    "v = Vizier()\n",
    "v.ROW_LIMIT = -1"
   ]
  },
  {
   "cell_type": "markdown",
   "metadata": {},
   "source": [
    "##### WWT Setup"
   ]
  },
  {
   "cell_type": "code",
   "execution_count": null,
   "metadata": {
    "collapsed": false
   },
   "outputs": [],
   "source": [
    "from pywwt.mods import *"
   ]
  },
  {
   "cell_type": "code",
   "execution_count": null,
   "metadata": {
    "collapsed": false
   },
   "outputs": [],
   "source": [
    "#Connect to WWT\n",
    "wwt = WWTClient() #Can pass a IP address here if WWT is running on a remote machine\n",
    "wwt.new_layer_group(\"Sky\",\"Dynamic Universe\")"
   ]
  },
  {
   "cell_type": "markdown",
   "metadata": {},
   "source": [
    "### Gamma Ray Bursts"
   ]
  },
  {
   "cell_type": "markdown",
   "metadata": {},
   "source": [
    "For out data catalog we'll choose The second Fermi/GBM GRB catalog (4yr) (von Kienlin+, 2014)\n",
    "Vizier catalog: J/ApJS/211/13/GBM\n",
    "Which contains Fermi events from July 2007 to July 2012"
   ]
  },
  {
   "cell_type": "code",
   "execution_count": 3,
   "metadata": {
    "collapsed": true
   },
   "outputs": [],
   "source": [
    "Cats = v.get_catalogs('J/ApJS/211/13/GBM')"
   ]
  },
  {
   "cell_type": "code",
   "execution_count": 5,
   "metadata": {
    "collapsed": false
   },
   "outputs": [
    {
     "data": {
      "text/html": [
       "&lt;Table masked=True length=954&gt;\n",
       "<table id=\"table1666344191872\" class=\"table-striped table-bordered table-condensed\">\n",
       "<thead><tr><th>_RAJ2000</th><th>_DEJ2000</th><th>TID</th><th>GRB</th><th>f_GRB</th><th>ObsTime</th><th>RAJ2000</th><th>DEJ2000</th><th>Err</th><th>Loc</th><th>Alg</th><th>Time</th><th>Erange</th><th>OtherDet</th><th>_2yr</th><th>LC</th><th>SimbadName</th><th>Rem</th><th>Det</th><th>T90</th><th>e_T90</th><th>T90st</th><th>T50</th><th>e_T50</th><th>T50st</th><th>Fl.w</th><th>e_Fl.w</th><th>PF1.w</th><th>e_PF1.w</th><th>PF2.w</th><th>e_PF2.w</th><th>PF3.w</th><th>e_PF3.w</th><th>Fl.n</th><th>e_Fl.n</th><th>PF1.n</th><th>e_PF1.n</th><th>PF2.n</th><th>e_PF2.n</th><th>PF3.n</th><th>e_PF3.n</th></tr></thead>\n",
       "<thead><tr><th>deg</th><th>deg</th><th></th><th></th><th></th><th>&quot;h:m:s&quot;</th><th>deg</th><th>deg</th><th>deg</th><th></th><th></th><th>ms</th><th>keV</th><th></th><th></th><th></th><th></th><th></th><th></th><th>s</th><th>s</th><th>s</th><th>s</th><th>s</th><th>s</th><th>mJ / m2</th><th>mJ / m2</th><th>ph s / cm2</th><th>ph s / cm2</th><th>ph s / cm2</th><th>ph s / cm2</th><th>ph s / cm2</th><th>ph s / cm2</th><th>mJ / m2</th><th>mJ / m2</th><th>ph s / cm2</th><th>ph s / cm2</th><th>ph s / cm2</th><th>ph s / cm2</th><th>ph s / cm2</th><th>ph s / cm2</th></tr></thead>\n",
       "<thead><tr><th>float64</th><th>float64</th><th>int32</th><th>bytes7</th><th>bytes3</th><th>bytes13</th><th>float32</th><th>float32</th><th>float32</th><th>bytes9</th><th>int16</th><th>int16</th><th>bytes6</th><th>bytes28</th><th>int16</th><th>bytes2</th><th>bytes10</th><th>bytes1</th><th>bytes13</th><th>float32</th><th>float32</th><th>float64</th><th>float32</th><th>float32</th><th>float64</th><th>float32</th><th>float32</th><th>float32</th><th>float32</th><th>float32</th><th>float32</th><th>float32</th><th>float32</th><th>float32</th><th>float32</th><th>float32</th><th>float32</th><th>float32</th><th>float32</th><th>float32</th><th>float32</th></tr></thead>\n",
       "<tr><td>41.9000</td><td>8.5000</td><td>80714086</td><td>080714B</td><td></td><td>02:04:12.0534</td><td>41.90</td><td>8.50</td><td>7.5</td><td>Fermi-GBM</td><td>10</td><td>512</td><td>47-291</td><td>K</td><td>1</td><td>LC</td><td>GRB080714B</td><td></td><td>3+4+8</td><td>5.376</td><td>2.360</td><td>-0.768</td><td>2.816</td><td>0.810</td><td>-0.256</td><td>6.8e-07</td><td>4.1e-08</td><td>3.82</td><td>1.06</td><td>2.24</td><td>0.36</td><td>1.54</td><td>0.18</td><td>3.5e-07</td><td>1.7e-08</td><td>1.52</td><td>0.74</td><td>0.91</td><td>0.36</td><td>0.43</td><td>0.18</td></tr>\n",
       "<tr><td>187.5000</td><td>-74.0000</td><td>80714425</td><td>080714C</td><td></td><td>10:12:01.8376</td><td>187.50</td><td>-74.00</td><td>8.7</td><td>Fermi-GBM</td><td>17</td><td>4096</td><td>47-291</td><td></td><td>1</td><td>LC</td><td>GRB080714C</td><td></td><td>0+9+10</td><td>40.192</td><td>1.145</td><td>-4.352</td><td>11.776</td><td>1.619</td><td>-1.280</td><td>1.8e-06</td><td>2.1e-08</td><td>4.00</td><td>1.45</td><td>2.96</td><td>0.46</td><td>2.02</td><td>0.21</td><td>9.8e-07</td><td>1.4e-08</td><td>1.03</td><td>0.45</td><td>0.71</td><td>0.19</td><td>0.46</td><td>0.08</td></tr>\n",
       "<tr><td>188.1000</td><td>-60.2000</td><td>80714745</td><td>080714A</td><td></td><td>17:52:54.0234</td><td>188.10</td><td>-60.20</td><td>--</td><td>Swift</td><td>13</td><td>1024</td><td>47-291</td><td>K, R, IA, S, Me, A</td><td>1</td><td>LC</td><td>GRB080714A</td><td></td><td>5</td><td>59.649</td><td>11.276</td><td>-0.512</td><td>25.088</td><td>7.940</td><td>2.560</td><td>6.3e-06</td><td>1.4e-07</td><td>8.89</td><td>1.61</td><td>7.78</td><td>0.83</td><td>6.93</td><td>0.39</td><td>3.3e-06</td><td>6e-08</td><td>4.41</td><td>1.66</td><td>3.27</td><td>0.71</td><td>2.82</td><td>0.36</td></tr>\n",
       "<tr><td>214.7000</td><td>9.9000</td><td>80715950</td><td>080715A</td><td>i</td><td>22:48:40.1634</td><td>214.70</td><td>9.90</td><td>2.0</td><td>Fermi-GBM</td><td>29</td><td>256</td><td>23-47</td><td>K, Me, A</td><td>1</td><td>LC</td><td>GRB080715A</td><td></td><td>0+1+2+9+10</td><td>7.872</td><td>0.272</td><td>0.128</td><td>6.144</td><td>0.264</td><td>1.088</td><td>5e-06</td><td>7.9e-08</td><td>19.42</td><td>0.95</td><td>13.58</td><td>0.45</td><td>9.91</td><td>0.22</td><td>2.5e-06</td><td>3.5e-08</td><td>10.70</td><td>0.95</td><td>6.61</td><td>0.45</td><td>3.83</td><td>0.22</td></tr>\n",
       "<tr><td>147.3000</td><td>-70.0000</td><td>80717543</td><td>080717A</td><td></td><td>13:02:35.2207</td><td>147.30</td><td>-70.00</td><td>4.7</td><td>Fermi-GBM</td><td>17</td><td>4096</td><td>47-291</td><td></td><td>1</td><td>LC</td><td>GRB080717A</td><td></td><td>2+10</td><td>36.609</td><td>2.985</td><td>-5.376</td><td>13.056</td><td>0.810</td><td>1.024</td><td>4.5e-06</td><td>7.7e-08</td><td>6.24</td><td>1.08</td><td>3.43</td><td>0.49</td><td>2.89</td><td>0.23</td><td>2.4e-06</td><td>4.5e-08</td><td>2.14</td><td>1.03</td><td>1.30</td><td>0.47</td><td>1.05</td><td>0.23</td></tr>\n",
       "<tr><td>153.2000</td><td>-61.3000</td><td>80719529</td><td>080719A</td><td></td><td>12:41:40.9578</td><td>153.20</td><td>-61.30</td><td>13.8</td><td>Fermi-GBM</td><td>16</td><td>4096</td><td>47-291</td><td>K, A</td><td>1</td><td>LC</td><td>GRB080719A</td><td></td><td>6+7+9</td><td>16.128</td><td>17.887</td><td>-4.352</td><td>8.448</td><td>1.280</td><td>-2.048</td><td>7.7e-07</td><td>2.9e-08</td><td>2.77</td><td>0.83</td><td>1.77</td><td>0.29</td><td>1.12</td><td>0.16</td><td>3.9e-07</td><td>1.5e-08</td><td>0.59</td><td>0.18</td><td>0.32</td><td>0.08</td><td>0.23</td><td>0.04</td></tr>\n",
       "<tr><td>98.5000</td><td>-43.9000</td><td>80720316</td><td>080720A</td><td></td><td>07:35:35.5476</td><td>98.50</td><td>-43.90</td><td>4.8</td><td>Fermi-GBM</td><td>19</td><td>8192</td><td>47-291</td><td></td><td>1</td><td>LC</td><td>GRB080720A</td><td>a</td><td></td><td>--</td><td>--</td><td>--</td><td>--</td><td>--</td><td>--</td><td>--</td><td>--</td><td>--</td><td>--</td><td>--</td><td>--</td><td>--</td><td>--</td><td>--</td><td>--</td><td>--</td><td>--</td><td>--</td><td>--</td><td>--</td><td>--</td></tr>\n",
       "<tr><td>176.8000</td><td>-60.2000</td><td>80723557</td><td>080723B</td><td>i</td><td>13:22:21.3751</td><td>176.80</td><td>-60.20</td><td>--</td><td>Swift</td><td>8</td><td>256</td><td>47-291</td><td>K, IA, IS, Me, A</td><td>1</td><td>LC</td><td>GRB080723B</td><td></td><td>4</td><td>58.369</td><td>1.985</td><td>2.368</td><td>40.513</td><td>0.231</td><td>14.208</td><td>7.2e-05</td><td>2.5e-07</td><td>40.97</td><td>2.24</td><td>38.24</td><td>1.09</td><td>30.45</td><td>0.49</td><td>3.9e-05</td><td>1.1e-07</td><td>21.19</td><td>1.79</td><td>19.81</td><td>1.09</td><td>15.14</td><td>0.48</td></tr>\n",
       "<tr><td>113.3000</td><td>-19.7000</td><td>80723913</td><td>080723C</td><td></td><td>21:55:23.0583</td><td>113.30</td><td>-19.70</td><td>9.9</td><td>Fermi-GBM</td><td>5</td><td>64</td><td>47-291</td><td>W</td><td>1</td><td>LC</td><td>GRB080723C</td><td></td><td>0+1+3</td><td>0.192</td><td>0.345</td><td>-0.064</td><td>0.064</td><td>0.143</td><td>-0.064</td><td>1.3e-07</td><td>1.4e-08</td><td>5.26</td><td>0.70</td><td>4.13</td><td>0.32</td><td>1.41</td><td>0.13</td><td>7.5e-08</td><td>5.2e-09</td><td>2.62</td><td>0.66</td><td>2.14</td><td>0.32</td><td>0.69</td><td>0.13</td></tr>\n",
       "<tr><td>...</td><td>...</td><td>...</td><td>...</td><td>...</td><td>...</td><td>...</td><td>...</td><td>...</td><td>...</td><td>...</td><td>...</td><td>...</td><td>...</td><td>...</td><td>...</td><td>...</td><td>...</td><td>...</td><td>...</td><td>...</td><td>...</td><td>...</td><td>...</td><td>...</td><td>...</td><td>...</td><td>...</td><td>...</td><td>...</td><td>...</td><td>...</td><td>...</td><td>...</td><td>...</td><td>...</td><td>...</td><td>...</td><td>...</td><td>...</td><td>...</td></tr>\n",
       "<tr><td>182.7000</td><td>-45.7000</td><td>120701654</td><td>120701B</td><td></td><td>15:41:48.3152</td><td>182.70</td><td>-45.70</td><td>14.8</td><td>Fermi-GBM</td><td>6</td><td>128</td><td>47-291</td><td>IA, Me</td><td>0</td><td>LC</td><td>GRB120701B</td><td></td><td>8+10+11</td><td>1.024</td><td>1.451</td><td>-0.960</td><td>0.128</td><td>1.313</td><td>-0.192</td><td>8.4e-08</td><td>6.3e-08</td><td>6.68</td><td>2.13</td><td>4.50</td><td>1.02</td><td>1.76</td><td>0.45</td><td>4.9e-08</td><td>2.9e-08</td><td>1.56</td><td>0.50</td><td>1.05</td><td>0.24</td><td>0.41</td><td>0.11</td></tr>\n",
       "<tr><td>227.8000</td><td>36.8000</td><td>120702891</td><td>120702A</td><td></td><td>21:23:19.1712</td><td>227.80</td><td>36.80</td><td>8.5</td><td>Fermi-GBM</td><td>11</td><td>512</td><td>47-291</td><td>S</td><td>0</td><td>LC</td><td>GRB120702A</td><td>p</td><td>6+7+9</td><td>35.073</td><td>4.924</td><td>-1.024</td><td>15.360</td><td>2.111</td><td>1.024</td><td>1.6e-06</td><td>5.8e-08</td><td>3.16</td><td>1.10</td><td>2.31</td><td>0.40</td><td>1.68</td><td>0.21</td><td>1e-06</td><td>3.4e-08</td><td>1.16</td><td>0.41</td><td>0.66</td><td>0.14</td><td>0.44</td><td>0.06</td></tr>\n",
       "<tr><td>69.5000</td><td>34.7000</td><td>120703417</td><td>120703B</td><td></td><td>10:01:11.6882</td><td>69.50</td><td>34.70</td><td>2.6</td><td>Fermi-GBM</td><td>12</td><td>1024</td><td>47-291</td><td>K, R, IA, Me</td><td>0</td><td>LC</td><td>GRB120703B</td><td></td><td>3+4+5</td><td>64.513</td><td>3.083</td><td>-0.512</td><td>36.609</td><td>2.064</td><td>3.840</td><td>1.1e-05</td><td>5.2e-08</td><td>10.06</td><td>1.36</td><td>8.28</td><td>0.63</td><td>7.64</td><td>0.32</td><td>5.5e-06</td><td>2.8e-08</td><td>3.58</td><td>0.56</td><td>2.90</td><td>0.25</td><td>2.55</td><td>0.12</td></tr>\n",
       "<tr><td>210.5000</td><td>46.3000</td><td>120703498</td><td>120703C</td><td></td><td>11:56:56.8702</td><td>210.50</td><td>46.30</td><td>5.2</td><td>Fermi-GBM</td><td>13</td><td>1024</td><td>47-291</td><td></td><td>0</td><td>LC</td><td>GRB120703C</td><td></td><td>4+8</td><td>77.568</td><td>2.187</td><td>-2.048</td><td>34.304</td><td>11.531</td><td>0.768</td><td>2.6e-06</td><td>5.3e-08</td><td>4.80</td><td>1.37</td><td>3.95</td><td>0.54</td><td>2.54</td><td>0.27</td><td>1.5e-06</td><td>3.3e-08</td><td>1.90</td><td>0.54</td><td>1.22</td><td>0.21</td><td>0.73</td><td>0.08</td></tr>\n",
       "<tr><td>339.4000</td><td>-29.7000</td><td>120703726</td><td>120703A</td><td>i</td><td>17:25:17.0323</td><td>339.40</td><td>-29.70</td><td>--</td><td>Swift</td><td>14</td><td>2048</td><td>47-291</td><td>K, R, IA, S, Me</td><td>0</td><td>LC</td><td>GRB120703A</td><td></td><td>6+7+9+10+11</td><td>8.960</td><td>1.379</td><td>0.768</td><td>1.536</td><td>0.362</td><td>4.608</td><td>8.3e-06</td><td>9.8e-08</td><td>19.75</td><td>1.19</td><td>18.73</td><td>0.61</td><td>17.18</td><td>0.30</td><td>4.3e-06</td><td>5.2e-08</td><td>11.92</td><td>0.73</td><td>10.30</td><td>0.36</td><td>8.60</td><td>0.17</td></tr>\n",
       "<tr><td>291.1000</td><td>-34.4000</td><td>120707800</td><td>120707A</td><td>i</td><td>19:12:17.4295</td><td>291.10</td><td>-34.40</td><td>1.0</td><td>Fermi-GBM</td><td>16</td><td>4096</td><td>47-291</td><td>Mo, K, R, IA, S, W</td><td>0</td><td>LC</td><td>GRB120707A</td><td></td><td>8+11</td><td>40.960</td><td>4.238</td><td>1.520</td><td>16.640</td><td>0.724</td><td>14.064</td><td>9.4e-05</td><td>7.1e-07</td><td>76.70</td><td>7.13</td><td>67.09</td><td>3.37</td><td>60.33</td><td>1.59</td><td>5.2e-05</td><td>3.4e-07</td><td>28.34</td><td>2.53</td><td>24.61</td><td>1.23</td><td>22.60</td><td>0.59</td></tr>\n",
       "<tr><td>318.4000</td><td>-50.1000</td><td>120709883</td><td>120709A</td><td>i</td><td>21:11:40.3666</td><td>318.40</td><td>-50.10</td><td>0.5</td><td>Fermi-LAT</td><td>4</td><td>64</td><td>47-291</td><td>K, IA, Me, L</td><td>0</td><td>LC</td><td>GRB120709A</td><td></td><td>6+7+9</td><td>27.328</td><td>0.958</td><td>-0.128</td><td>11.776</td><td>0.362</td><td>10.816</td><td>1.4e-05</td><td>3.8e-08</td><td>18.35</td><td>1.41</td><td>15.39</td><td>0.65</td><td>11.05</td><td>0.29</td><td>6.3e-06</td><td>2.1e-08</td><td>10.91</td><td>0.77</td><td>8.50</td><td>0.36</td><td>5.00</td><td>0.16</td></tr>\n",
       "<tr><td>120.4000</td><td>-31.1000</td><td>120710100</td><td>120710A</td><td></td><td>02:23:17.0507</td><td>120.40</td><td>-31.10</td><td>4.8</td><td>Fermi-GBM</td><td>9</td><td>256</td><td>47-291</td><td>S, Me, W</td><td>0</td><td>LC</td><td>GRB120710A</td><td></td><td>0+3+4+6+7</td><td>131.840</td><td>1.056</td><td>0.000</td><td>94.720</td><td>5.382</td><td>26.112</td><td>5.3e-06</td><td>2.1e-08</td><td>6.56</td><td>1.35</td><td>4.64</td><td>0.55</td><td>3.80</td><td>0.25</td><td>2.7e-06</td><td>1.1e-08</td><td>1.99</td><td>0.44</td><td>1.17</td><td>0.17</td><td>0.90</td><td>0.08</td></tr>\n",
       "<tr><td>94.7000</td><td>-71.0000</td><td>120711115</td><td>120711A</td><td>i</td><td>02:44:53.2943</td><td>94.70</td><td>-71.00</td><td>--</td><td>INTEGRAL</td><td>8</td><td>256</td><td>47-291</td><td>K, R, IA, IS, S, Me, M, L</td><td>0</td><td>LC</td><td>GRB120711A</td><td></td><td>2+10</td><td>44.033</td><td>0.724</td><td>62.465</td><td>25.088</td><td>0.724</td><td>71.681</td><td>0.00019</td><td>2.3e-07</td><td>44.67</td><td>2.81</td><td>31.57</td><td>1.22</td><td>26.72</td><td>0.58</td><td>6.6e-05</td><td>7.7e-08</td><td>19.05</td><td>1.68</td><td>14.42</td><td>0.64</td><td>12.19</td><td>0.28</td></tr>\n",
       "<tr><td>127.9000</td><td>-31.8000</td><td>120711446</td><td>120711C</td><td></td><td>10:42:54.5709</td><td>127.90</td><td>-31.80</td><td>11.0</td><td>Fermi-GBM</td><td>13</td><td>1024</td><td>47-291</td><td>IA, W</td><td>0</td><td>LC</td><td>GRB120711C</td><td></td><td>0+1+3</td><td>87.552</td><td>3.874</td><td>-1.280</td><td>45.312</td><td>1.379</td><td>5.376</td><td>1.9e-06</td><td>2e-08</td><td>3.83</td><td>1.18</td><td>2.26</td><td>0.36</td><td>1.28</td><td>0.17</td><td>1e-06</td><td>1.2e-08</td><td>0.73</td><td>0.34</td><td>0.54</td><td>0.10</td><td>0.31</td><td>0.05</td></tr>\n",
       "</table>"
      ],
      "text/plain": [
       "<Table masked=True length=954>\n",
       "_RAJ2000 _DEJ2000    TID      GRB   ...  e_PF2.n     PF3.n     e_PF3.n  \n",
       "  deg      deg                      ... ph s / cm2 ph s / cm2 ph s / cm2\n",
       "float64  float64    int32    bytes7 ...  float32    float32    float32  \n",
       "-------- -------- --------- ------- ... ---------- ---------- ----------\n",
       " 41.9000   8.5000  80714086 080714B ...       0.36       0.43       0.18\n",
       "187.5000 -74.0000  80714425 080714C ...       0.19       0.46       0.08\n",
       "188.1000 -60.2000  80714745 080714A ...       0.71       2.82       0.36\n",
       "214.7000   9.9000  80715950 080715A ...       0.45       3.83       0.22\n",
       "147.3000 -70.0000  80717543 080717A ...       0.47       1.05       0.23\n",
       "153.2000 -61.3000  80719529 080719A ...       0.08       0.23       0.04\n",
       " 98.5000 -43.9000  80720316 080720A ...         --         --         --\n",
       "176.8000 -60.2000  80723557 080723B ...       1.09      15.14       0.48\n",
       "113.3000 -19.7000  80723913 080723C ...       0.32       0.69       0.13\n",
       "     ...      ...       ...     ... ...        ...        ...        ...\n",
       "182.7000 -45.7000 120701654 120701B ...       0.24       0.41       0.11\n",
       "227.8000  36.8000 120702891 120702A ...       0.14       0.44       0.06\n",
       " 69.5000  34.7000 120703417 120703B ...       0.25       2.55       0.12\n",
       "210.5000  46.3000 120703498 120703C ...       0.21       0.73       0.08\n",
       "339.4000 -29.7000 120703726 120703A ...       0.36       8.60       0.17\n",
       "291.1000 -34.4000 120707800 120707A ...       1.23      22.60       0.59\n",
       "318.4000 -50.1000 120709883 120709A ...       0.36       5.00       0.16\n",
       "120.4000 -31.1000 120710100 120710A ...       0.17       0.90       0.08\n",
       " 94.7000 -71.0000 120711115 120711A ...       0.64      12.19       0.28\n",
       "127.9000 -31.8000 120711446 120711C ...       0.10       0.31       0.05"
      ]
     },
     "execution_count": 5,
     "metadata": {},
     "output_type": "execute_result"
    }
   ],
   "source": [
    "Cats[0]"
   ]
  },
  {
   "cell_type": "code",
   "execution_count": 6,
   "metadata": {
    "collapsed": false
   },
   "outputs": [],
   "source": [
    "grbCat=Cats[0]\n",
    "grbCat.keep_columns([\"GRB\",\"RAJ2000\",\"DEJ2000\",\"Time\",\"ObsTime\",\"Fl.w\",\"Fl.n\"])\n",
    "grbCat.rename_column('RAJ2000', 'RA')\n",
    "grbCat.rename_column('DEJ2000', 'dec')"
   ]
  },
  {
   "cell_type": "code",
   "execution_count": 7,
   "metadata": {
    "collapsed": false
   },
   "outputs": [
    {
     "data": {
      "text/html": [
       "&lt;Table masked=True length=954&gt;\n",
       "<table id=\"table1666344191872\" class=\"table-striped table-bordered table-condensed\">\n",
       "<thead><tr><th>GRB</th><th>ObsTime</th><th>RA</th><th>dec</th><th>Time</th><th>Fl.w</th><th>Fl.n</th></tr></thead>\n",
       "<thead><tr><th></th><th>&quot;h:m:s&quot;</th><th>deg</th><th>deg</th><th>ms</th><th>mJ / m2</th><th>mJ / m2</th></tr></thead>\n",
       "<thead><tr><th>bytes7</th><th>bytes13</th><th>float32</th><th>float32</th><th>int16</th><th>float32</th><th>float32</th></tr></thead>\n",
       "<tr><td>080714B</td><td>02:04:12.0534</td><td>41.90</td><td>8.50</td><td>512</td><td>6.8e-07</td><td>3.5e-07</td></tr>\n",
       "<tr><td>080714C</td><td>10:12:01.8376</td><td>187.50</td><td>-74.00</td><td>4096</td><td>1.8e-06</td><td>9.8e-07</td></tr>\n",
       "<tr><td>080714A</td><td>17:52:54.0234</td><td>188.10</td><td>-60.20</td><td>1024</td><td>6.3e-06</td><td>3.3e-06</td></tr>\n",
       "<tr><td>080715A</td><td>22:48:40.1634</td><td>214.70</td><td>9.90</td><td>256</td><td>5e-06</td><td>2.5e-06</td></tr>\n",
       "<tr><td>080717A</td><td>13:02:35.2207</td><td>147.30</td><td>-70.00</td><td>4096</td><td>4.5e-06</td><td>2.4e-06</td></tr>\n",
       "<tr><td>080719A</td><td>12:41:40.9578</td><td>153.20</td><td>-61.30</td><td>4096</td><td>7.7e-07</td><td>3.9e-07</td></tr>\n",
       "<tr><td>080720A</td><td>07:35:35.5476</td><td>98.50</td><td>-43.90</td><td>8192</td><td>--</td><td>--</td></tr>\n",
       "<tr><td>080723B</td><td>13:22:21.3751</td><td>176.80</td><td>-60.20</td><td>256</td><td>7.2e-05</td><td>3.9e-05</td></tr>\n",
       "<tr><td>080723C</td><td>21:55:23.0583</td><td>113.30</td><td>-19.70</td><td>64</td><td>1.3e-07</td><td>7.5e-08</td></tr>\n",
       "<tr><td>...</td><td>...</td><td>...</td><td>...</td><td>...</td><td>...</td><td>...</td></tr>\n",
       "<tr><td>120701B</td><td>15:41:48.3152</td><td>182.70</td><td>-45.70</td><td>128</td><td>8.4e-08</td><td>4.9e-08</td></tr>\n",
       "<tr><td>120702A</td><td>21:23:19.1712</td><td>227.80</td><td>36.80</td><td>512</td><td>1.6e-06</td><td>1e-06</td></tr>\n",
       "<tr><td>120703B</td><td>10:01:11.6882</td><td>69.50</td><td>34.70</td><td>1024</td><td>1.1e-05</td><td>5.5e-06</td></tr>\n",
       "<tr><td>120703C</td><td>11:56:56.8702</td><td>210.50</td><td>46.30</td><td>1024</td><td>2.6e-06</td><td>1.5e-06</td></tr>\n",
       "<tr><td>120703A</td><td>17:25:17.0323</td><td>339.40</td><td>-29.70</td><td>2048</td><td>8.3e-06</td><td>4.3e-06</td></tr>\n",
       "<tr><td>120707A</td><td>19:12:17.4295</td><td>291.10</td><td>-34.40</td><td>4096</td><td>9.4e-05</td><td>5.2e-05</td></tr>\n",
       "<tr><td>120709A</td><td>21:11:40.3666</td><td>318.40</td><td>-50.10</td><td>64</td><td>1.4e-05</td><td>6.3e-06</td></tr>\n",
       "<tr><td>120710A</td><td>02:23:17.0507</td><td>120.40</td><td>-31.10</td><td>256</td><td>5.3e-06</td><td>2.7e-06</td></tr>\n",
       "<tr><td>120711A</td><td>02:44:53.2943</td><td>94.70</td><td>-71.00</td><td>256</td><td>0.00019</td><td>6.6e-05</td></tr>\n",
       "<tr><td>120711C</td><td>10:42:54.5709</td><td>127.90</td><td>-31.80</td><td>1024</td><td>1.9e-06</td><td>1e-06</td></tr>\n",
       "</table>"
      ],
      "text/plain": [
       "<Table masked=True length=954>\n",
       "  GRB      ObsTime       RA     dec    Time    Fl.w      Fl.n  \n",
       "           \"h:m:s\"      deg     deg     ms   mJ / m2   mJ / m2 \n",
       " bytes7    bytes13    float32 float32 int16  float32   float32 \n",
       "------- ------------- ------- ------- ----- --------- ---------\n",
       "080714B 02:04:12.0534   41.90    8.50   512   6.8e-07   3.5e-07\n",
       "080714C 10:12:01.8376  187.50  -74.00  4096   1.8e-06   9.8e-07\n",
       "080714A 17:52:54.0234  188.10  -60.20  1024   6.3e-06   3.3e-06\n",
       "080715A 22:48:40.1634  214.70    9.90   256     5e-06   2.5e-06\n",
       "080717A 13:02:35.2207  147.30  -70.00  4096   4.5e-06   2.4e-06\n",
       "080719A 12:41:40.9578  153.20  -61.30  4096   7.7e-07   3.9e-07\n",
       "080720A 07:35:35.5476   98.50  -43.90  8192        --        --\n",
       "080723B 13:22:21.3751  176.80  -60.20   256   7.2e-05   3.9e-05\n",
       "080723C 21:55:23.0583  113.30  -19.70    64   1.3e-07   7.5e-08\n",
       "    ...           ...     ...     ...   ...       ...       ...\n",
       "120701B 15:41:48.3152  182.70  -45.70   128   8.4e-08   4.9e-08\n",
       "120702A 21:23:19.1712  227.80   36.80   512   1.6e-06     1e-06\n",
       "120703B 10:01:11.6882   69.50   34.70  1024   1.1e-05   5.5e-06\n",
       "120703C 11:56:56.8702  210.50   46.30  1024   2.6e-06   1.5e-06\n",
       "120703A 17:25:17.0323  339.40  -29.70  2048   8.3e-06   4.3e-06\n",
       "120707A 19:12:17.4295  291.10  -34.40  4096   9.4e-05   5.2e-05\n",
       "120709A 21:11:40.3666  318.40  -50.10    64   1.4e-05   6.3e-06\n",
       "120710A 02:23:17.0507  120.40  -31.10   256   5.3e-06   2.7e-06\n",
       "120711A 02:44:53.2943   94.70  -71.00   256   0.00019   6.6e-05\n",
       "120711C 10:42:54.5709  127.90  -31.80  1024   1.9e-06     1e-06"
      ]
     },
     "execution_count": 7,
     "metadata": {},
     "output_type": "execute_result"
    }
   ],
   "source": [
    "grbCat"
   ]
  },
  {
   "cell_type": "code",
   "execution_count": null,
   "metadata": {
    "collapsed": false
   },
   "outputs": [],
   "source": [
    "#Plot the Catalog\n",
    "%config InlineBackend.rc = {}\n",
    "import matplotlib\n",
    "import matplotlib.pyplot as plt\n",
    "%matplotlib inline"
   ]
  },
  {
   "cell_type": "code",
   "execution_count": null,
   "metadata": {
    "collapsed": false
   },
   "outputs": [],
   "source": [
    "#Plot the Catalog\n",
    "coordsCol=SkyCoord(grbCat['RA'],grbCat['dec'],'icrs')\n",
    "fig = plt.figure (figsize=(8,6))\n",
    "ax = fig.add_subplot(111,projection=\"mollweide\", axisbg='white')\n",
    "ax.grid(True)\n",
    "ax.get_xaxis().tick_bottom()\n",
    "ax.scatter(coordsCol.galactic.l.wrap_at(180.*units.degree).radian,\\\n",
    "           coordsCol.galactic.b.radian,s=6,lw=0)"
   ]
  },
  {
   "cell_type": "markdown",
   "metadata": {},
   "source": [
    "Extracting the event time from this table is tricky. The time of day is in the ObsTime column, but the date is embedded in the GRB name. We'll extract the date from the GRB name and combine that with ObsTime to make a astropy time object. "
   ]
  },
  {
   "cell_type": "code",
   "execution_count": 9,
   "metadata": {
    "collapsed": false
   },
   "outputs": [],
   "source": [
    "timeList=[]\n",
    "grbList=grbCat['GRB']\n",
    "for i in range(len(grbList)):\n",
    "    timeString= grbList[i][2:4].decode()+'/'+grbList[i][4:6].decode()+'/'+'20'+grbList[i][0:2].decode()+' '+grbCat['ObsTime'][i].decode()\n",
    "    timeList.append(timeString)"
   ]
  },
  {
   "cell_type": "markdown",
   "metadata": {},
   "source": [
    "##### Export Catalog to WWT"
   ]
  },
  {
   "cell_type": "markdown",
   "metadata": {},
   "source": [
    "WWT contains its own time format, unfortunately one that astropy cannot write, so we'll have to create our own custom string."
   ]
  },
  {
   "cell_type": "code",
   "execution_count": 10,
   "metadata": {
    "collapsed": false
   },
   "outputs": [
    {
     "data": {
      "text/html": [
       "&lt;Table masked=True length=954&gt;\n",
       "<table id=\"table1666344191872\" class=\"table-striped table-bordered table-condensed\">\n",
       "<thead><tr><th>GRB</th><th>ObsTime</th><th>RA</th><th>dec</th><th>Time</th><th>Fl.w</th><th>Fl.n</th><th>TimeAndDate</th></tr></thead>\n",
       "<thead><tr><th></th><th>&quot;h:m:s&quot;</th><th>deg</th><th>deg</th><th>ms</th><th>mJ / m2</th><th>mJ / m2</th><th></th></tr></thead>\n",
       "<thead><tr><th>bytes7</th><th>bytes13</th><th>float32</th><th>float32</th><th>int16</th><th>float32</th><th>float32</th><th>str24</th></tr></thead>\n",
       "<tr><td>080714B</td><td>02:04:12.0534</td><td>41.90</td><td>8.50</td><td>512</td><td>6.8e-07</td><td>3.5e-07</td><td>07/14/2008 02:04:12.0534</td></tr>\n",
       "<tr><td>080714C</td><td>10:12:01.8376</td><td>187.50</td><td>-74.00</td><td>4096</td><td>1.8e-06</td><td>9.8e-07</td><td>07/14/2008 10:12:01.8376</td></tr>\n",
       "<tr><td>080714A</td><td>17:52:54.0234</td><td>188.10</td><td>-60.20</td><td>1024</td><td>6.3e-06</td><td>3.3e-06</td><td>07/14/2008 17:52:54.0234</td></tr>\n",
       "<tr><td>080715A</td><td>22:48:40.1634</td><td>214.70</td><td>9.90</td><td>256</td><td>5e-06</td><td>2.5e-06</td><td>07/15/2008 22:48:40.1634</td></tr>\n",
       "<tr><td>080717A</td><td>13:02:35.2207</td><td>147.30</td><td>-70.00</td><td>4096</td><td>4.5e-06</td><td>2.4e-06</td><td>07/17/2008 13:02:35.2207</td></tr>\n",
       "<tr><td>080719A</td><td>12:41:40.9578</td><td>153.20</td><td>-61.30</td><td>4096</td><td>7.7e-07</td><td>3.9e-07</td><td>07/19/2008 12:41:40.9578</td></tr>\n",
       "<tr><td>080720A</td><td>07:35:35.5476</td><td>98.50</td><td>-43.90</td><td>8192</td><td>--</td><td>--</td><td>07/20/2008 07:35:35.5476</td></tr>\n",
       "<tr><td>080723B</td><td>13:22:21.3751</td><td>176.80</td><td>-60.20</td><td>256</td><td>7.2e-05</td><td>3.9e-05</td><td>07/23/2008 13:22:21.3751</td></tr>\n",
       "<tr><td>080723C</td><td>21:55:23.0583</td><td>113.30</td><td>-19.70</td><td>64</td><td>1.3e-07</td><td>7.5e-08</td><td>07/23/2008 21:55:23.0583</td></tr>\n",
       "<tr><td>...</td><td>...</td><td>...</td><td>...</td><td>...</td><td>...</td><td>...</td><td>...</td></tr>\n",
       "<tr><td>120701B</td><td>15:41:48.3152</td><td>182.70</td><td>-45.70</td><td>128</td><td>8.4e-08</td><td>4.9e-08</td><td>07/01/2012 15:41:48.3152</td></tr>\n",
       "<tr><td>120702A</td><td>21:23:19.1712</td><td>227.80</td><td>36.80</td><td>512</td><td>1.6e-06</td><td>1e-06</td><td>07/02/2012 21:23:19.1712</td></tr>\n",
       "<tr><td>120703B</td><td>10:01:11.6882</td><td>69.50</td><td>34.70</td><td>1024</td><td>1.1e-05</td><td>5.5e-06</td><td>07/03/2012 10:01:11.6882</td></tr>\n",
       "<tr><td>120703C</td><td>11:56:56.8702</td><td>210.50</td><td>46.30</td><td>1024</td><td>2.6e-06</td><td>1.5e-06</td><td>07/03/2012 11:56:56.8702</td></tr>\n",
       "<tr><td>120703A</td><td>17:25:17.0323</td><td>339.40</td><td>-29.70</td><td>2048</td><td>8.3e-06</td><td>4.3e-06</td><td>07/03/2012 17:25:17.0323</td></tr>\n",
       "<tr><td>120707A</td><td>19:12:17.4295</td><td>291.10</td><td>-34.40</td><td>4096</td><td>9.4e-05</td><td>5.2e-05</td><td>07/07/2012 19:12:17.4295</td></tr>\n",
       "<tr><td>120709A</td><td>21:11:40.3666</td><td>318.40</td><td>-50.10</td><td>64</td><td>1.4e-05</td><td>6.3e-06</td><td>07/09/2012 21:11:40.3666</td></tr>\n",
       "<tr><td>120710A</td><td>02:23:17.0507</td><td>120.40</td><td>-31.10</td><td>256</td><td>5.3e-06</td><td>2.7e-06</td><td>07/10/2012 02:23:17.0507</td></tr>\n",
       "<tr><td>120711A</td><td>02:44:53.2943</td><td>94.70</td><td>-71.00</td><td>256</td><td>0.00019</td><td>6.6e-05</td><td>07/11/2012 02:44:53.2943</td></tr>\n",
       "<tr><td>120711C</td><td>10:42:54.5709</td><td>127.90</td><td>-31.80</td><td>1024</td><td>1.9e-06</td><td>1e-06</td><td>07/11/2012 10:42:54.5709</td></tr>\n",
       "</table>"
      ],
      "text/plain": [
       "<Table masked=True length=954>\n",
       "  GRB      ObsTime       RA   ...    Fl.w      Fl.n         TimeAndDate       \n",
       "           \"h:m:s\"      deg   ...  mJ / m2   mJ / m2                          \n",
       " bytes7    bytes13    float32 ...  float32   float32           str24          \n",
       "------- ------------- ------- ... --------- --------- ------------------------\n",
       "080714B 02:04:12.0534   41.90 ...   6.8e-07   3.5e-07 07/14/2008 02:04:12.0534\n",
       "080714C 10:12:01.8376  187.50 ...   1.8e-06   9.8e-07 07/14/2008 10:12:01.8376\n",
       "080714A 17:52:54.0234  188.10 ...   6.3e-06   3.3e-06 07/14/2008 17:52:54.0234\n",
       "080715A 22:48:40.1634  214.70 ...     5e-06   2.5e-06 07/15/2008 22:48:40.1634\n",
       "080717A 13:02:35.2207  147.30 ...   4.5e-06   2.4e-06 07/17/2008 13:02:35.2207\n",
       "080719A 12:41:40.9578  153.20 ...   7.7e-07   3.9e-07 07/19/2008 12:41:40.9578\n",
       "080720A 07:35:35.5476   98.50 ...        --        -- 07/20/2008 07:35:35.5476\n",
       "080723B 13:22:21.3751  176.80 ...   7.2e-05   3.9e-05 07/23/2008 13:22:21.3751\n",
       "080723C 21:55:23.0583  113.30 ...   1.3e-07   7.5e-08 07/23/2008 21:55:23.0583\n",
       "    ...           ...     ... ...       ...       ...                      ...\n",
       "120701B 15:41:48.3152  182.70 ...   8.4e-08   4.9e-08 07/01/2012 15:41:48.3152\n",
       "120702A 21:23:19.1712  227.80 ...   1.6e-06     1e-06 07/02/2012 21:23:19.1712\n",
       "120703B 10:01:11.6882   69.50 ...   1.1e-05   5.5e-06 07/03/2012 10:01:11.6882\n",
       "120703C 11:56:56.8702  210.50 ...   2.6e-06   1.5e-06 07/03/2012 11:56:56.8702\n",
       "120703A 17:25:17.0323  339.40 ...   8.3e-06   4.3e-06 07/03/2012 17:25:17.0323\n",
       "120707A 19:12:17.4295  291.10 ...   9.4e-05   5.2e-05 07/07/2012 19:12:17.4295\n",
       "120709A 21:11:40.3666  318.40 ...   1.4e-05   6.3e-06 07/09/2012 21:11:40.3666\n",
       "120710A 02:23:17.0507  120.40 ...   5.3e-06   2.7e-06 07/10/2012 02:23:17.0507\n",
       "120711A 02:44:53.2943   94.70 ...   0.00019   6.6e-05 07/11/2012 02:44:53.2943\n",
       "120711C 10:42:54.5709  127.90 ...   1.9e-06     1e-06 07/11/2012 10:42:54.5709"
      ]
     },
     "execution_count": 10,
     "metadata": {},
     "output_type": "execute_result"
    }
   ],
   "source": [
    "grbList=grbCat['GRB']\n",
    "timeList=[]\n",
    "for i in range(len(grbList)):\n",
    "    timeString= grbList[i][2:4].decode()+'/'+grbList[i][4:6].decode()+'/'+'20'+grbList[i][0:2].decode()+' '+grbCat['ObsTime'][i].decode()\n",
    "    timeList.append(timeString)\n",
    "grbCat.add_column(Column(timeList,name='TimeAndDate'))\n",
    "grbCat"
   ]
  },
  {
   "cell_type": "code",
   "execution_count": 11,
   "metadata": {
    "collapsed": false
   },
   "outputs": [
    {
     "ename": "NameError",
     "evalue": "name 'wwt' is not defined",
     "output_type": "error",
     "traceback": [
      "\u001b[0;31m---------------------------------------------------------------------------\u001b[0m",
      "\u001b[0;31mNameError\u001b[0m                                 Traceback (most recent call last)",
      "\u001b[0;32m<ipython-input-11-2f824c5c5c7a>\u001b[0m in \u001b[0;36m<module>\u001b[0;34m()\u001b[0m\n\u001b[1;32m      1\u001b[0m \u001b[1;31m#Set up WWT layer\u001b[0m\u001b[1;33m\u001b[0m\u001b[1;33m\u001b[0m\u001b[0m\n\u001b[0;32m----> 2\u001b[0;31m \u001b[0mgrb_layer\u001b[0m \u001b[1;33m=\u001b[0m \u001b[0mwwt\u001b[0m\u001b[1;33m.\u001b[0m\u001b[0mnew_layer\u001b[0m\u001b[1;33m(\u001b[0m\u001b[1;34m\"Dynamic Universe\"\u001b[0m\u001b[1;33m,\u001b[0m \u001b[1;34m\"Gamma Ray Bursts\"\u001b[0m\u001b[1;33m,\u001b[0m \u001b[0mgrbCat\u001b[0m\u001b[1;33m.\u001b[0m\u001b[0mcolnames\u001b[0m\u001b[1;33m)\u001b[0m\u001b[1;33m\u001b[0m\u001b[0m\n\u001b[0m\u001b[1;32m      3\u001b[0m \u001b[1;31m#Set visualization parameters in WWT\u001b[0m\u001b[1;33m\u001b[0m\u001b[1;33m\u001b[0m\u001b[0m\n\u001b[1;32m      4\u001b[0m \u001b[0mprops_dict\u001b[0m \u001b[1;33m=\u001b[0m \u001b[1;33m{\u001b[0m\u001b[1;34m\"CoordinatesType\"\u001b[0m\u001b[1;33m:\u001b[0m\u001b[1;34m\"Spherical\"\u001b[0m\u001b[1;33m,\u001b[0m              \u001b[1;34m\"MarkerScale\"\u001b[0m\u001b[1;33m:\u001b[0m\u001b[1;34m\"Screen\"\u001b[0m\u001b[1;33m,\u001b[0m              \u001b[1;34m\"PointScaleType\"\u001b[0m\u001b[1;33m:\u001b[0m\u001b[1;34m\"Constant\"\u001b[0m\u001b[1;33m,\u001b[0m              \u001b[1;34m\"ScaleFactor\"\u001b[0m\u001b[1;33m:\u001b[0m\u001b[1;34m\"64\"\u001b[0m\u001b[1;33m,\u001b[0m              \u001b[1;34m\"ShowFarSide\"\u001b[0m\u001b[1;33m:\u001b[0m\u001b[1;34m\"True\"\u001b[0m\u001b[1;33m,\u001b[0m              \u001b[1;34m\"RaUnits\"\u001b[0m\u001b[1;33m:\u001b[0m\u001b[1;34m\"Degrees\"\u001b[0m\u001b[1;33m,\u001b[0m              \u001b[1;34m\"PlotType\"\u001b[0m\u001b[1;33m:\u001b[0m\u001b[1;34m\"Gaussian\"\u001b[0m\u001b[1;33m,\u001b[0m              \u001b[1;34m\"ColorValue\"\u001b[0m\u001b[1;33m:\u001b[0m\u001b[1;34m\"ARGBColor:255:255:255:255\"\u001b[0m\u001b[1;33m,\u001b[0m              \u001b[1;34m\"TimeSeries\"\u001b[0m\u001b[1;33m:\u001b[0m\u001b[1;34m\"False\"\u001b[0m\u001b[1;33m}\u001b[0m\u001b[1;33m\u001b[0m\u001b[0m\n\u001b[1;32m      5\u001b[0m \u001b[0mgrb_layer\u001b[0m\u001b[1;33m.\u001b[0m\u001b[0mset_properties\u001b[0m\u001b[1;33m(\u001b[0m\u001b[0mprops_dict\u001b[0m\u001b[1;33m)\u001b[0m\u001b[1;33m\u001b[0m\u001b[0m\n",
      "\u001b[0;31mNameError\u001b[0m: name 'wwt' is not defined"
     ]
    }
   ],
   "source": [
    "#Set up WWT layer\n",
    "grb_layer = wwt.new_layer(\"Dynamic Universe\", \"Gamma Ray Bursts\", grbCat.colnames)\n",
    "#Set visualization parameters in WWT\n",
    "props_dict = {\"CoordinatesType\":\"Spherical\",\\\n",
    "              \"MarkerScale\":\"Screen\",\\\n",
    "              \"PointScaleType\":\"Constant\",\\\n",
    "              \"ScaleFactor\":\"64\",\\\n",
    "              \"ShowFarSide\":\"True\",\\\n",
    "              \"RaUnits\":\"Degrees\",\\\n",
    "              \"PlotType\":\"Gaussian\",\\\n",
    "              \"ColorValue\":\"ARGBColor:255:255:255:255\",\\\n",
    "              \"TimeSeries\":\"False\"}\n",
    "grb_layer.set_properties(props_dict)\n",
    "#Send data to WWT client\n",
    "grb_layer.update(data=grbCat, purge_all=True, no_purge=False, show=True)"
   ]
  },
  {
   "cell_type": "markdown",
   "metadata": {},
   "source": [
    "Now inside WWT we can choose how we visualize the data, we can show all the data at once or playback the events as they happen watching the GRB’s go off like popcorn across the sky. "
   ]
  },
  {
   "cell_type": "markdown",
   "metadata": {},
   "source": [
    "<img src=https://raw.githubusercontent.com/IPSScienceVisualization/python-tutorials/master/images/GRBWWT.png>"
   ]
  },
  {
   "cell_type": "code",
   "execution_count": null,
   "metadata": {
    "collapsed": false
   },
   "outputs": [],
   "source": []
  }
 ],
 "metadata": {
  "anaconda-cloud": {},
  "kernelspec": {
   "display_name": "Python [conda root]",
   "language": "python",
   "name": "conda-root-py"
  },
  "language_info": {
   "codemirror_mode": {
    "name": "ipython",
    "version": 3
   },
   "file_extension": ".py",
   "mimetype": "text/x-python",
   "name": "python",
   "nbconvert_exporter": "python",
   "pygments_lexer": "ipython3",
   "version": "3.5.2"
  }
 },
 "nbformat": 4,
 "nbformat_minor": 0
}

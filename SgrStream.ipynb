{
 "cells": [
  {
   "cell_type": "markdown",
   "metadata": {},
   "source": [
    "# Disruption of the Sagattarius Dwarf Galaxy in WWT"
   ]
  },
  {
   "cell_type": "markdown",
   "metadata": {},
   "source": [
    "<img src=\"https://raw.githubusercontent.com/marksubbarao/pyWWT_AAS225/master/images/SgrStream.png\">"
   ]
  },
  {
   "cell_type": "markdown",
   "metadata": {},
   "source": [
    "We will visualize an N-body simulation of the tidal disruption of the Sagattarius Dwarf galaxy as described in Law and Majewski 2012 http://iopscience.iop.org/0004-637X/714/1/229/article Data files were taken from the website: http://www.astro.virginia.edu/~srm4n/Sgr/data.html "
   ]
  },
  {
   "cell_type": "code",
   "execution_count": 1,
   "metadata": {
    "collapsed": false
   },
   "outputs": [
    {
     "name": "stderr",
     "output_type": "stream",
     "text": [
      "C:\\Anaconda\\lib\\site-packages\\IPython\\kernel\\__init__.py:13: ShimWarning: The `IPython.kernel` package has been deprecated. You should import from ipykernel or jupyter_client instead.\n",
      "  \"You should import from ipykernel or jupyter_client instead.\", ShimWarning)\n"
     ]
    }
   ],
   "source": [
    "#Set up astropy and astroquery \n",
    "from astropy.table import Table,Column\n",
    "from astropy.coordinates import SkyCoord, Distance, CartesianRepresentation\n",
    "from astropy import units as u"
   ]
  },
  {
   "cell_type": "markdown",
   "metadata": {},
   "source": [
    "## The Star Streams"
   ]
  },
  {
   "cell_type": "code",
   "execution_count": 2,
   "metadata": {
    "collapsed": false
   },
   "outputs": [
    {
     "data": {
      "text/html": [
       "&lt;Table masked=False length=100000&gt;\n",
       "<table id=\"table174543368\">\n",
       "<thead><tr><th>ra</th><th>dec</th><th>Pcol</th><th>distance</th></tr></thead>\n",
       "<thead><tr><th>deg</th><th>deg</th><th></th><th>pc</th></tr></thead>\n",
       "<thead><tr><th>float64</th><th>float64</th><th>int32</th><th>float64</th></tr></thead>\n",
       "<tr><td>295.968</td><td>-42.1607</td><td>8</td><td>65975.1</td></tr>\n",
       "<tr><td>284.571</td><td>-31.0457</td><td>-1</td><td>28705.5</td></tr>\n",
       "<tr><td>300.004</td><td>-31.3875</td><td>0</td><td>24114.8</td></tr>\n",
       "<tr><td>279.433</td><td>-35.746</td><td>8</td><td>62416.9</td></tr>\n",
       "<tr><td>267.578</td><td>-38.2792</td><td>7</td><td>49910.6</td></tr>\n",
       "<tr><td>176.893</td><td>1.10254</td><td>4</td><td>47122.8</td></tr>\n",
       "<tr><td>104.444</td><td>33.1628</td><td>4</td><td>53437.1</td></tr>\n",
       "<tr><td>71.5963</td><td>-0.34414</td><td>5</td><td>25899.1</td></tr>\n",
       "<tr><td>201.532</td><td>39.4735</td><td>8</td><td>44656.1</td></tr>\n",
       "<tr><td>...</td><td>...</td><td>...</td><td>...</td></tr>\n",
       "<tr><td>341.335</td><td>-40.5922</td><td>5</td><td>84215.2</td></tr>\n",
       "<tr><td>83.1511</td><td>11.1116</td><td>6</td><td>21616.4</td></tr>\n",
       "<tr><td>280.495</td><td>-29.8858</td><td>-1</td><td>29235.6</td></tr>\n",
       "<tr><td>72.5915</td><td>8.54601</td><td>7</td><td>13437.0</td></tr>\n",
       "<tr><td>354.151</td><td>-7.18791</td><td>7</td><td>27570.5</td></tr>\n",
       "<tr><td>74.4983</td><td>21.7006</td><td>3</td><td>51303.9</td></tr>\n",
       "<tr><td>186.857</td><td>25.8397</td><td>6</td><td>21843.2</td></tr>\n",
       "<tr><td>45.3987</td><td>12.4169</td><td>1</td><td>28512.1</td></tr>\n",
       "<tr><td>285.87</td><td>-25.5548</td><td>8</td><td>49008.2</td></tr>\n",
       "<tr><td>218.982</td><td>21.9778</td><td>8</td><td>49079.0</td></tr>\n",
       "</table>"
      ],
      "text/plain": [
       "<Table masked=False length=100000>\n",
       "   ra     dec     Pcol distance\n",
       "  deg     deg             pc   \n",
       "float64 float64  int32 float64 \n",
       "------- -------- ----- --------\n",
       "295.968 -42.1607     8  65975.1\n",
       "284.571 -31.0457    -1  28705.5\n",
       "300.004 -31.3875     0  24114.8\n",
       "279.433  -35.746     8  62416.9\n",
       "267.578 -38.2792     7  49910.6\n",
       "176.893  1.10254     4  47122.8\n",
       "104.444  33.1628     4  53437.1\n",
       "71.5963 -0.34414     5  25899.1\n",
       "201.532  39.4735     8  44656.1\n",
       "    ...      ...   ...      ...\n",
       "341.335 -40.5922     5  84215.2\n",
       "83.1511  11.1116     6  21616.4\n",
       "280.495 -29.8858    -1  29235.6\n",
       "72.5915  8.54601     7  13437.0\n",
       "354.151 -7.18791     7  27570.5\n",
       "74.4983  21.7006     3  51303.9\n",
       "186.857  25.8397     6  21843.2\n",
       "45.3987  12.4169     1  28512.1\n",
       " 285.87 -25.5548     8  49008.2\n",
       "218.982  21.9778     8  49079.0"
      ]
     },
     "execution_count": 2,
     "metadata": {},
     "output_type": "execute_result"
    }
   ],
   "source": [
    "#Import data set, keep only the columns we need. Convert distances from kpc to pc for WWT\n",
    "Stars = Table.read('data/SgrTriax_DYN.dat', format='ascii.basic')\n",
    "Stars.keep_columns([\"ra\",\"dec\",\"dist\",\"Pcol\"])\n",
    "Stars['ra'].unit = u.degree\n",
    "Stars['dec'].unit = u.degree\n",
    "distCol=Column(1000*Stars['dist'],name='distance',meta={'ucd': 'pos.distance'}, unit='pc')\n",
    "Stars.add_column(distCol)\n",
    "del Stars['dist']\n",
    "Stars"
   ]
  },
  {
   "cell_type": "markdown",
   "metadata": {},
   "source": [
    "#### Add colormap column based on Pcol as described in LM10. Black changed to grey for visibility"
   ]
  },
  {
   "cell_type": "code",
   "execution_count": 3,
   "metadata": {
    "collapsed": false
   },
   "outputs": [
    {
     "ename": "KeyError",
     "evalue": "u'Column colormap does not exist'",
     "output_type": "error",
     "traceback": [
      "\u001b[1;31m---------------------------------------------------------------------------\u001b[0m",
      "\u001b[1;31mKeyError\u001b[0m                                  Traceback (most recent call last)",
      "\u001b[1;32m<ipython-input-3-aab7f9a166dc>\u001b[0m in \u001b[0;36m<module>\u001b[1;34m()\u001b[0m\n\u001b[1;32m----> 1\u001b[1;33m \u001b[0mStars\u001b[0m\u001b[1;33m.\u001b[0m\u001b[0mremove_columns\u001b[0m\u001b[1;33m(\u001b[0m\u001b[1;33m[\u001b[0m\u001b[1;34m\"colormap\"\u001b[0m\u001b[1;33m]\u001b[0m\u001b[1;33m)\u001b[0m\u001b[1;33m\u001b[0m\u001b[0m\n\u001b[0m",
      "\u001b[1;32mC:\\Anaconda\\lib\\site-packages\\astropy\\table\\table.pyc\u001b[0m in \u001b[0;36mremove_columns\u001b[1;34m(self, names)\u001b[0m\n\u001b[0;32m   1394\u001b[0m         \u001b[1;32mfor\u001b[0m \u001b[0mname\u001b[0m \u001b[1;32min\u001b[0m \u001b[0mnames\u001b[0m\u001b[1;33m:\u001b[0m\u001b[1;33m\u001b[0m\u001b[0m\n\u001b[0;32m   1395\u001b[0m             \u001b[1;32mif\u001b[0m \u001b[0mname\u001b[0m \u001b[1;32mnot\u001b[0m \u001b[1;32min\u001b[0m \u001b[0mself\u001b[0m\u001b[1;33m.\u001b[0m\u001b[0mcolumns\u001b[0m\u001b[1;33m:\u001b[0m\u001b[1;33m\u001b[0m\u001b[0m\n\u001b[1;32m-> 1396\u001b[1;33m                 \u001b[1;32mraise\u001b[0m \u001b[0mKeyError\u001b[0m\u001b[1;33m(\u001b[0m\u001b[1;34m\"Column {0} does not exist\"\u001b[0m\u001b[1;33m.\u001b[0m\u001b[0mformat\u001b[0m\u001b[1;33m(\u001b[0m\u001b[0mname\u001b[0m\u001b[1;33m)\u001b[0m\u001b[1;33m)\u001b[0m\u001b[1;33m\u001b[0m\u001b[0m\n\u001b[0m\u001b[0;32m   1397\u001b[0m \u001b[1;33m\u001b[0m\u001b[0m\n\u001b[0;32m   1398\u001b[0m         \u001b[1;32mfor\u001b[0m \u001b[0mname\u001b[0m \u001b[1;32min\u001b[0m \u001b[0mnames\u001b[0m\u001b[1;33m:\u001b[0m\u001b[1;33m\u001b[0m\u001b[0m\n",
      "\u001b[1;31mKeyError\u001b[0m: u'Column colormap does not exist'"
     ]
    }
   ],
   "source": [
    "Stars.remove_columns([\"colormap\"])"
   ]
  },
  {
   "cell_type": "code",
   "execution_count": 4,
   "metadata": {
    "collapsed": false
   },
   "outputs": [
    {
     "data": {
      "text/html": [
       "&lt;Table masked=False length=100000&gt;\n",
       "<table id=\"table174543368\">\n",
       "<thead><tr><th>ra</th><th>dec</th><th>Pcol</th><th>distance</th><th>colormap</th></tr></thead>\n",
       "<thead><tr><th>deg</th><th>deg</th><th></th><th>pc</th><th></th></tr></thead>\n",
       "<thead><tr><th>float64</th><th>float64</th><th>int32</th><th>float64</th><th>string56</th></tr></thead>\n",
       "<tr><td>295.968</td><td>-42.1607</td><td>8</td><td>65975.1</td><td>magenta</td></tr>\n",
       "<tr><td>284.571</td><td>-31.0457</td><td>-1</td><td>28705.5</td><td>grey</td></tr>\n",
       "<tr><td>300.004</td><td>-31.3875</td><td>0</td><td>24114.8</td><td>orange</td></tr>\n",
       "<tr><td>279.433</td><td>-35.746</td><td>8</td><td>62416.9</td><td>magenta</td></tr>\n",
       "<tr><td>267.578</td><td>-38.2792</td><td>7</td><td>49910.6</td><td>green</td></tr>\n",
       "<tr><td>176.893</td><td>1.10254</td><td>4</td><td>47122.8</td><td>cyan</td></tr>\n",
       "<tr><td>104.444</td><td>33.1628</td><td>4</td><td>53437.1</td><td>cyan</td></tr>\n",
       "<tr><td>71.5963</td><td>-0.34414</td><td>5</td><td>25899.1</td><td>cyan</td></tr>\n",
       "<tr><td>201.532</td><td>39.4735</td><td>8</td><td>44656.1</td><td>magenta</td></tr>\n",
       "<tr><td>...</td><td>...</td><td>...</td><td>...</td><td>...</td></tr>\n",
       "<tr><td>341.335</td><td>-40.5922</td><td>5</td><td>84215.2</td><td>cyan</td></tr>\n",
       "<tr><td>83.1511</td><td>11.1116</td><td>6</td><td>21616.4</td><td>green</td></tr>\n",
       "<tr><td>280.495</td><td>-29.8858</td><td>-1</td><td>29235.6</td><td>grey</td></tr>\n",
       "<tr><td>72.5915</td><td>8.54601</td><td>7</td><td>13437.0</td><td>green</td></tr>\n",
       "<tr><td>354.151</td><td>-7.18791</td><td>7</td><td>27570.5</td><td>green</td></tr>\n",
       "<tr><td>74.4983</td><td>21.7006</td><td>3</td><td>51303.9</td><td>magenta</td></tr>\n",
       "<tr><td>186.857</td><td>25.8397</td><td>6</td><td>21843.2</td><td>green</td></tr>\n",
       "<tr><td>45.3987</td><td>12.4169</td><td>1</td><td>28512.1</td><td>orange</td></tr>\n",
       "<tr><td>285.87</td><td>-25.5548</td><td>8</td><td>49008.2</td><td>magenta</td></tr>\n",
       "<tr><td>218.982</td><td>21.9778</td><td>8</td><td>49079.0</td><td>magenta</td></tr>\n",
       "</table>"
      ],
      "text/plain": [
       "<Table masked=False length=100000>\n",
       "   ra     dec     Pcol distance colormap\n",
       "  deg     deg             pc            \n",
       "float64 float64  int32 float64  string56\n",
       "------- -------- ----- -------- --------\n",
       "295.968 -42.1607     8  65975.1  magenta\n",
       "284.571 -31.0457    -1  28705.5     grey\n",
       "300.004 -31.3875     0  24114.8   orange\n",
       "279.433  -35.746     8  62416.9  magenta\n",
       "267.578 -38.2792     7  49910.6    green\n",
       "176.893  1.10254     4  47122.8     cyan\n",
       "104.444  33.1628     4  53437.1     cyan\n",
       "71.5963 -0.34414     5  25899.1     cyan\n",
       "201.532  39.4735     8  44656.1  magenta\n",
       "    ...      ...   ...      ...      ...\n",
       "341.335 -40.5922     5  84215.2     cyan\n",
       "83.1511  11.1116     6  21616.4    green\n",
       "280.495 -29.8858    -1  29235.6     grey\n",
       "72.5915  8.54601     7  13437.0    green\n",
       "354.151 -7.18791     7  27570.5    green\n",
       "74.4983  21.7006     3  51303.9  magenta\n",
       "186.857  25.8397     6  21843.2    green\n",
       "45.3987  12.4169     1  28512.1   orange\n",
       " 285.87 -25.5548     8  49008.2  magenta\n",
       "218.982  21.9778     8  49079.0  magenta"
      ]
     },
     "execution_count": 4,
     "metadata": {},
     "output_type": "execute_result"
    }
   ],
   "source": [
    "Stars['colormap'] = 'magenta'\n",
    "for i in range(len(Stars['Pcol'])):\n",
    "  pc=Stars['Pcol'][i]\n",
    "  if pc==-1:\n",
    "    Stars['colormap'][i]='grey'\n",
    "  elif pc==0 or pc==1:\n",
    "    Stars['colormap'][i]='orange'\n",
    "  elif pc==2 or pc==3:\n",
    "    Stars['colormap'][i]='magenta'\n",
    "  elif pc==4 or pc==5:\n",
    "    Stars['colormap'][i]='cyan'\n",
    "  elif pc==6 or pc==7:\n",
    "    Stars['colormap'][i]='green'\n",
    "Stars"
   ]
  },
  {
   "cell_type": "markdown",
   "metadata": {},
   "source": [
    "### Visualize Star Streams in WWT"
   ]
  },
  {
   "cell_type": "code",
   "execution_count": 5,
   "metadata": {
    "collapsed": false
   },
   "outputs": [
    {
     "name": "stdout",
     "output_type": "stream",
     "text": [
      "Connecting to WWT on host 127.0.0.1.\n"
     ]
    }
   ],
   "source": [
    "#Connect to WWT and set up Layer Group\n",
    "from pywwt.mods import *\n",
    "wwt = WWTClient(host=\"127.0.0.1\") #Can pass a IP address here if WWT is running on a remote machine\n",
    "wwt.new_layer_group(\"Sky\",\"Sgr Dwarf Disruption\")"
   ]
  },
  {
   "cell_type": "code",
   "execution_count": 6,
   "metadata": {
    "collapsed": false
   },
   "outputs": [],
   "source": [
    "#Set up WWT layer\n",
    "SgrStream_layer = wwt.new_layer(\"Sgr Dwarf Disruption\", \"SgrStream\", Stars.colnames)\n",
    "#Set visualization parameters in WWT\n",
    "props_dict = {\"CoordinatesType\":\"Spherical\",\\\n",
    "              \"MarkerScale\":\"Screen\",\\\n",
    "              \"PointScaleType\":\"Constant\",\\\n",
    "              \"ScaleFactor\":\"8\",\\\n",
    "              \"ShowFarSide\":\"True\",\\\n",
    "              \"AltColumn\":\"3\",\\\n",
    "              \"AltType\":\"Distance\",\\\n",
    "              \"AltUnit\":\"Parsecs\",\\\n",
    "              \"RaUnits\":\"Degrees\",\\\n",
    "              \"PlotType\":\"Gaussian\",\\\n",
    "              \"ColorMapColumn\":\"4\",\\\n",
    "              \"TimeSeries\":\"False\"}\n",
    "SgrStream_layer.set_properties(props_dict)\n",
    "#Send data to WWT client\n",
    "SgrStream_layer.update(data=Stars, purge_all=True, no_purge=False, show=True)"
   ]
  },
  {
   "cell_type": "markdown",
   "metadata": {},
   "source": [
    "## Sgr Dwarf Orbit"
   ]
  },
  {
   "cell_type": "code",
   "execution_count": 6,
   "metadata": {
    "collapsed": false
   },
   "outputs": [],
   "source": [
    "Orbit = Table.read('data/SgrTriax_orbit.dat', format='ascii.no_header')\n",
    "Orbit.keep_columns([\"col1\",\"col4\",\"col5\",\"col12\"])\n",
    "Orbit.rename_column('col1', 'time')\n",
    "Orbit.rename_column('col4', 'RA')\n",
    "Orbit.rename_column('col5', 'dec')\n",
    "Orbit.rename_column('col12', 'dist')\n",
    "distCol=Column(1000*Orbit['dist'],name='distance',meta={'ucd': 'pos.distance'}, unit=u.pc)\n",
    "Orbit.add_column(distCol)\n",
    "del Orbit['dist']\n",
    "Orbit['RA'].unit = u.degree\n",
    "Orbit['dec'].unit = u.degree\n",
    "Orbit['time'].unit = u.Gyr"
   ]
  },
  {
   "cell_type": "code",
   "execution_count": 12,
   "metadata": {
    "collapsed": false
   },
   "outputs": [
    {
     "data": {
      "text/html": [
       "<table id=\"table32243048\"><thead><tr><th>time</th><th>RA</th><th>dec</th><th>distance</th></tr></thead><thead><tr><th>Gyr</th><th>deg</th><th>deg</th><th>pc</th></tr></thead><tr><td>-7.9961</td><td>29.7451</td><td>-8.51732</td><td>52743.6</td></tr><tr><td>-7.9889</td><td>28.869</td><td>-8.92598</td><td>53198.1</td></tr><tr><td>-7.9817</td><td>27.9937</td><td>-9.33262</td><td>53632.8</td></tr><tr><td>-7.9744</td><td>27.1194</td><td>-9.73709</td><td>54049.6</td></tr><tr><td>-7.9672</td><td>26.2453</td><td>-10.1392</td><td>54446.9</td></tr><tr><td>-7.96</td><td>25.37</td><td>-10.5403</td><td>54826.8</td></tr><tr><td>-7.9527</td><td>24.4935</td><td>-10.9395</td><td>55188.0</td></tr><tr><td>-7.9455</td><td>23.6163</td><td>-11.3363</td><td>55531.5</td></tr><tr><td>-7.9383</td><td>22.7355</td><td>-11.7326</td><td>55857.7</td></tr><tr><td>-7.931</td><td>21.8535</td><td>-12.1264</td><td>56167.2</td></tr><tr><td>-7.9238</td><td>20.9678</td><td>-12.5188</td><td>56458.8</td></tr><tr><td>...</td><td>...</td><td>...</td><td>...</td></tr><tr><td>7.8936</td><td>266.154</td><td>-27.5093</td><td>65477.8</td></tr><tr><td>7.9054</td><td>265.448</td><td>-26.9654</td><td>65230.7</td></tr><tr><td>7.9166</td><td>264.78</td><td>-26.4471</td><td>64920.7</td></tr><tr><td>7.9278</td><td>264.111</td><td>-25.923</td><td>64534.9</td></tr><tr><td>7.9389</td><td>263.438</td><td>-25.3915</td><td>64073.5</td></tr><tr><td>7.9501</td><td>262.759</td><td>-24.8513</td><td>63536.5</td></tr><tr><td>7.9606</td><td>262.113</td><td>-24.3332</td><td>62960.9</td></tr><tr><td>7.9711</td><td>261.457</td><td>-23.8042</td><td>62316.7</td></tr><tr><td>7.9817</td><td>260.791</td><td>-23.2628</td><td>61603.3</td></tr><tr><td>7.9915</td><td>260.155</td><td>-22.7422</td><td>60871.3</td></tr></table>"
      ],
      "text/plain": [
       "<Table rows=4266 names=('time','RA','dec','distance') units=('Gyr','deg','deg','pc')>\n",
       "array([(-7.9961, 29.7451, -8.51732, 52743.6),\n",
       "       (-7.9889, 28.869, -8.92598, 53198.1),\n",
       "       (-7.9817, 27.9937, -9.33262, 53632.8), ...,\n",
       "       (7.9711, 261.457, -23.8042, 62316.7),\n",
       "       (7.9817, 260.791, -23.2628, 61603.299999999996),\n",
       "       (7.9915, 260.155, -22.7422, 60871.299999999996)], \n",
       "      dtype=[('time', '<f8'), ('RA', '<f8'), ('dec', '<f8'), ('distance', '<f8')])"
      ]
     },
     "execution_count": 12,
     "metadata": {},
     "output_type": "execute_result"
    }
   ],
   "source": [
    "Orbit"
   ]
  },
  {
   "cell_type": "markdown",
   "metadata": {},
   "source": [
    "### Setting up the Time Series"
   ]
  },
  {
   "cell_type": "markdown",
   "metadata": {},
   "source": [
    "WWT can't advance time over billions of years. Here we set up a column in the WWT time format scaled so that one day equals one billion years in the simulation."
   ]
  },
  {
   "cell_type": "code",
   "execution_count": 17,
   "metadata": {
    "collapsed": false
   },
   "outputs": [],
   "source": [
    "from astropy.time import Time, TimeDelta\n",
    "T0 = Time('2014-01-01T00:00:00.0', format='isot', scale='utc')\n",
    "TimeCol=T0+TimeDelta(Orbit['time'],format='jd')\n",
    "wwtCol=[]\n",
    "for timeElement in TimeCol:\n",
    "  wwtCol.append(timeElement.datetime.strftime('%m/%d/%Y %H:%M:%S'))\n",
    "\n",
    "Orbit.add_column(Column(wwtCol,name=\"proxyTime\"))"
   ]
  },
  {
   "cell_type": "code",
   "execution_count": 18,
   "metadata": {
    "collapsed": false
   },
   "outputs": [
    {
     "data": {
      "text/html": [
       "<table id=\"table32243048\"><thead><tr><th>time</th><th>RA</th><th>dec</th><th>distance</th><th>proxyTime</th></tr></thead><thead><tr><th>Gyr</th><th>deg</th><th>deg</th><th>pc</th><th></th></tr></thead><tr><td>-7.9961</td><td>29.7451</td><td>-8.51732</td><td>52743.6</td><td>12/24/2013 00:05:36</td></tr><tr><td>-7.9889</td><td>28.869</td><td>-8.92598</td><td>53198.1</td><td>12/24/2013 00:15:59</td></tr><tr><td>-7.9817</td><td>27.9937</td><td>-9.33262</td><td>53632.8</td><td>12/24/2013 00:26:21</td></tr><tr><td>-7.9744</td><td>27.1194</td><td>-9.73709</td><td>54049.6</td><td>12/24/2013 00:36:51</td></tr><tr><td>-7.9672</td><td>26.2453</td><td>-10.1392</td><td>54446.9</td><td>12/24/2013 00:47:13</td></tr><tr><td>-7.96</td><td>25.37</td><td>-10.5403</td><td>54826.8</td><td>12/24/2013 00:57:36</td></tr><tr><td>-7.9527</td><td>24.4935</td><td>-10.9395</td><td>55188.0</td><td>12/24/2013 01:08:06</td></tr><tr><td>-7.9455</td><td>23.6163</td><td>-11.3363</td><td>55531.5</td><td>12/24/2013 01:18:28</td></tr><tr><td>-7.9383</td><td>22.7355</td><td>-11.7326</td><td>55857.7</td><td>12/24/2013 01:28:50</td></tr><tr><td>-7.931</td><td>21.8535</td><td>-12.1264</td><td>56167.2</td><td>12/24/2013 01:39:21</td></tr><tr><td>-7.9238</td><td>20.9678</td><td>-12.5188</td><td>56458.8</td><td>12/24/2013 01:49:43</td></tr><tr><td>...</td><td>...</td><td>...</td><td>...</td><td>...</td></tr><tr><td>7.8936</td><td>266.154</td><td>-27.5093</td><td>65477.8</td><td>01/08/2014 21:26:47</td></tr><tr><td>7.9054</td><td>265.448</td><td>-26.9654</td><td>65230.7</td><td>01/08/2014 21:43:46</td></tr><tr><td>7.9166</td><td>264.78</td><td>-26.4471</td><td>64920.7</td><td>01/08/2014 21:59:54</td></tr><tr><td>7.9278</td><td>264.111</td><td>-25.923</td><td>64534.9</td><td>01/08/2014 22:16:01</td></tr><tr><td>7.9389</td><td>263.438</td><td>-25.3915</td><td>64073.5</td><td>01/08/2014 22:32:00</td></tr><tr><td>7.9501</td><td>262.759</td><td>-24.8513</td><td>63536.5</td><td>01/08/2014 22:48:08</td></tr><tr><td>7.9606</td><td>262.113</td><td>-24.3332</td><td>62960.9</td><td>01/08/2014 23:03:15</td></tr><tr><td>7.9711</td><td>261.457</td><td>-23.8042</td><td>62316.7</td><td>01/08/2014 23:18:23</td></tr><tr><td>7.9817</td><td>260.791</td><td>-23.2628</td><td>61603.3</td><td>01/08/2014 23:33:38</td></tr><tr><td>7.9915</td><td>260.155</td><td>-22.7422</td><td>60871.3</td><td>01/08/2014 23:47:45</td></tr></table>"
      ],
      "text/plain": [
       "<Table rows=4266 names=('time','RA','dec','distance','proxyTime') units=('Gyr','deg','deg','pc',None)>\n",
       "array([(-7.9961, 29.7451, -8.51732, 52743.6, '12/24/2013 00:05:36'),\n",
       "       (-7.9889, 28.869, -8.92598, 53198.1, '12/24/2013 00:15:59'),\n",
       "       (-7.9817, 27.9937, -9.33262, 53632.8, '12/24/2013 00:26:21'), ...,\n",
       "       (7.9711, 261.457, -23.8042, 62316.7, '01/08/2014 23:18:23'),\n",
       "       (7.9817, 260.791, -23.2628, 61603.299999999996, '01/08/2014 23:33:38'),\n",
       "       (7.9915, 260.155, -22.7422, 60871.299999999996, '01/08/2014 23:47:45')], \n",
       "      dtype=[('time', '<f8'), ('RA', '<f8'), ('dec', '<f8'), ('distance', '<f8'), ('proxyTime', 'S19')])"
      ]
     },
     "execution_count": 18,
     "metadata": {},
     "output_type": "execute_result"
    }
   ],
   "source": [
    "Orbit"
   ]
  },
  {
   "cell_type": "code",
   "execution_count": 19,
   "metadata": {
    "collapsed": false
   },
   "outputs": [],
   "source": [
    "#Set up WWT layer\n",
    "SgrOrbit_layer = wwt.new_layer(\"Sgr Dwarf Disruption\", \"SgrOrbit\", Orbit.colnames)\n",
    "#Set visualization parameters in WWT\n",
    "props_dict = {\"CoordinatesType\":\"Spherical\",\\\n",
    "              \"MarkerScale\":\"Screen\",\\\n",
    "              \"PointScaleType\":\"Constant\",\\\n",
    "              \"ScaleFactor\":\"8\",\\\n",
    "              \"ShowFarSide\":\"True\",\\\n",
    "              \"AltColumn\":\"3\",\\\n",
    "              \"AltType\":\"Distance\",\\\n",
    "              \"AltUnit\":\"Parsecs\",\\\n",
    "              \"RaUnits\":\"Degrees\",\\\n",
    "              \"PlotType\":\"Gaussian\",\\\n",
    "              \"TimeSeries\":\"False\"}\n",
    "SgrOrbit_layer.set_properties(props_dict)\n",
    "#Send data to WWT client\n",
    "SgrOrbit_layer.update(data=Orbit, purge_all=True, no_purge=False, show=True)"
   ]
  }
 ],
 "metadata": {
  "kernelspec": {
   "display_name": "Python 2",
   "language": "python",
   "name": "python2"
  },
  "language_info": {
   "codemirror_mode": {
    "name": "ipython",
    "version": 2
   },
   "file_extension": ".py",
   "mimetype": "text/x-python",
   "name": "python",
   "nbconvert_exporter": "python",
   "pygments_lexer": "ipython2",
   "version": "2.7.6"
  }
 },
 "nbformat": 4,
 "nbformat_minor": 0
}
